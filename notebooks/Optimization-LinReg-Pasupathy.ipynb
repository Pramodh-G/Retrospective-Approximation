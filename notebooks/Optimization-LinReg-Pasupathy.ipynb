{
 "cells": [
  {
   "cell_type": "code",
   "execution_count": 2,
   "id": "22995bd9",
   "metadata": {},
   "outputs": [],
   "source": [
    "# notebook for trying out RA and lbfgs with optim.jl instead of custom implementation.\n",
    "# not reusing past data proves to be costly here.\n",
    "using LinearAlgebra, Distributions, Random, Optim, LineSearches\n",
    "using CSV, DataFrames, DelimitedFiles"
   ]
  },
  {
   "cell_type": "code",
   "execution_count": 3,
   "id": "52d470cd",
   "metadata": {},
   "outputs": [],
   "source": [
    "# beta is (1, 2, 3, ... p)ᵀ, given in paper.\n",
    "data = CSV.read(\"../data/lin_reg.csv\", DataFrame);\n",
    "data = Matrix(data);"
   ]
  },
  {
   "cell_type": "code",
   "execution_count": 4,
   "id": "83d9cef6",
   "metadata": {},
   "outputs": [],
   "source": [
    "const X = data[:, 1:end - 1];\n",
    "const y = data[:, end];"
   ]
  },
  {
   "cell_type": "code",
   "execution_count": 5,
   "id": "1e5035c7",
   "metadata": {},
   "outputs": [
    {
     "data": {
      "text/plain": [
       "(10000, 1000)"
      ]
     },
     "execution_count": 5,
     "metadata": {},
     "output_type": "execute_result"
    }
   ],
   "source": [
    "n, p = size(X)"
   ]
  },
  {
   "cell_type": "code",
   "execution_count": 6,
   "id": "08a3372e",
   "metadata": {},
   "outputs": [
    {
     "data": {
      "text/plain": [
       "batch_shuffle (generic function with 1 method)"
      ]
     },
     "execution_count": 6,
     "metadata": {},
     "output_type": "execute_result"
    }
   ],
   "source": [
    "function batch_shuffle(X, y, mb_size)\n",
    "    n = size(X)[1]\n",
    "    perm = randperm(n)[1:mb_size]\n",
    "    X_mini = @view X[perm, :]\n",
    "    y_mini = @view y[perm, :]\n",
    "    return X_mini, y_mini\n",
    "end"
   ]
  },
  {
   "cell_type": "code",
   "execution_count": 7,
   "id": "8ab9ad4d",
   "metadata": {},
   "outputs": [],
   "source": [
    "# function loss(X, y, β)\n",
    "    \n",
    "#     res = y - X * β\n",
    "#     l  = sum(abs2, res)\n",
    "#     return l\n",
    "# end"
   ]
  },
  {
   "cell_type": "code",
   "execution_count": 8,
   "id": "7926b4d3",
   "metadata": {},
   "outputs": [],
   "source": [
    "# function gradient(X, y, β)\n",
    "#     ∇β = -X' * (y .- X * β)\n",
    "#     return ∇β\n",
    "# end"
   ]
  },
  {
   "cell_type": "code",
   "execution_count": 9,
   "id": "bbd0f088",
   "metadata": {},
   "outputs": [
    {
     "data": {
      "text/plain": [
       "fg! (generic function with 1 method)"
      ]
     },
     "execution_count": 9,
     "metadata": {},
     "output_type": "execute_result"
    }
   ],
   "source": [
    "function f(β)\n",
    "    res = y .- X * β\n",
    "    l = sum(abs2, res)\n",
    "    return l\n",
    "end\n",
    "function g!(G, β)\n",
    "    G .= -X' * (y .- X * β)\n",
    "    println(norm(G))\n",
    "end\n",
    "function fg!(F, G, β)\n",
    "    res = y .- X * β\n",
    "    \n",
    "    if G != nothing\n",
    "        G .= -X' * res\n",
    "    end\n",
    "    if F != nothing\n",
    "        l = sum(abs2, res)\n",
    "        return l\n",
    "    end\n",
    "end"
   ]
  },
  {
   "cell_type": "code",
   "execution_count": 10,
   "id": "54c1b032",
   "metadata": {},
   "outputs": [],
   "source": [
    "β₀ = zeros(p);"
   ]
  },
  {
   "cell_type": "code",
   "execution_count": null,
   "id": "4e8fe353",
   "metadata": {},
   "outputs": [],
   "source": [
    "res_f = optimize(f, g!, β₀, method = LBFGS(\n",
    "            alphaguess = LineSearches.InitialStatic(),\n",
    "            linesearch = LineSearches.BackTracking()\n",
    "        ),\n",
    "        g_tol = 1e-10,\n",
    "        store_trace = true,\n",
    "        extended_trace = true\n",
    "    )"
   ]
  },
  {
   "cell_type": "code",
   "execution_count": 18,
   "id": "0d09d3a1",
   "metadata": {},
   "outputs": [
    {
     "data": {
      "text/plain": [
       " * Status: success\n",
       "\n",
       " * Candidate solution\n",
       "    Final objective value:     1.264382e-18\n",
       "\n",
       " * Found with\n",
       "    Algorithm:     L-BFGS\n",
       "\n",
       " * Convergence measures\n",
       "    |x - x'|               = 4.43e-12 ≰ 0.0e+00\n",
       "    |x - x'|/|x'|          = 4.43e-15 ≰ 0.0e+00\n",
       "    |f(x) - f(x')|         = 8.93e-18 ≰ 0.0e+00\n",
       "    |f(x) - f(x')|/|f(x')| = 7.07e+00 ≰ 0.0e+00\n",
       "    |g(x)|                 = 9.30e-09 ≤ 1.0e-08\n",
       "\n",
       " * Work counters\n",
       "    Seconds run:   2  (vs limit Inf)\n",
       "    Iterations:    32\n",
       "    f(x) calls:    38\n",
       "    ∇f(x) calls:   33\n"
      ]
     },
     "execution_count": 18,
     "metadata": {},
     "output_type": "execute_result"
    }
   ],
   "source": [
    "β₀ = zeros(p)\n",
    "res_fg = optimize(Optim.only_fg!(fg!), β₀, method = LBFGS(\n",
    "            alphaguess = LineSearches.InitialStatic(),\n",
    "            linesearch = LineSearches.BackTracking()\n",
    "        ),\n",
    "    store_trace = true\n",
    "    )"
   ]
  },
  {
   "cell_type": "code",
   "execution_count": 105,
   "id": "9a7c2d75",
   "metadata": {},
   "outputs": [
    {
     "data": {
      "text/plain": [
       "5-element Vector{Float64}:\n",
       " 1.0\n",
       " 0.1\n",
       " 0.01\n",
       " 0.01\n",
       " 0.001"
      ]
     },
     "execution_count": 105,
     "metadata": {},
     "output_type": "execute_result"
    }
   ],
   "source": [
    "eps = [1e0, 1e-1, 1e-2, 1e-2, 1e-3]"
   ]
  },
  {
   "cell_type": "code",
   "execution_count": 106,
   "id": "b4d2be25",
   "metadata": {},
   "outputs": [
    {
     "data": {
      "text/plain": [
       "([2, 0, 0, 0, 0], 5)"
      ]
     },
     "execution_count": 106,
     "metadata": {},
     "output_type": "execute_result"
    }
   ],
   "source": [
    "# make first element 2\n",
    "nₒ = size(eps)[1] \n",
    "mbs = zeros(Int64, nₒ)\n",
    "mbs[1] = 2\n",
    "mbs, nₒ"
   ]
  },
  {
   "cell_type": "code",
   "execution_count": 107,
   "id": "33be2f3f",
   "metadata": {},
   "outputs": [
    {
     "data": {
      "text/plain": [
       "5-element Vector{Int64}:\n",
       "   2\n",
       "  16\n",
       "  64\n",
       " 192\n",
       " 384"
      ]
     },
     "execution_count": 107,
     "metadata": {},
     "output_type": "execute_result"
    }
   ],
   "source": [
    "for i in 1:(nₒ - 1)\n",
    "    qᵢ₊₁ = ceil(Int, 1 + 7 * (i^-1.7))\n",
    "    mbs[i + 1] = mbs[i] * qᵢ₊₁\n",
    "end\n",
    "mbs"
   ]
  },
  {
   "cell_type": "code",
   "execution_count": 108,
   "id": "cb9b5832",
   "metadata": {},
   "outputs": [
    {
     "data": {
      "text/plain": [
       "ra_lbfgs (generic function with 1 method)"
      ]
     },
     "execution_count": 108,
     "metadata": {},
     "output_type": "execute_result"
    }
   ],
   "source": [
    "function ra_lbfgs(eps, mbs, β₀)\n",
    "    \n",
    "    @assert(size(mbs) == size(eps))\n",
    "    nₒ = size(mbs)[1]\n",
    "    niter_total = 0\n",
    "    ngrad_total = 0\n",
    "    βᵢ = β₀\n",
    "    \n",
    "    for i in 1:nₒ\n",
    "        X_inner, y_inner = batch_shuffle(X, y, mbs[i])\n",
    "        @show i\n",
    "        function fg_inner!(F, G, β)\n",
    "            res = y_inner .- X_inner * β\n",
    "\n",
    "            if G != nothing\n",
    "                G .= -X_inner' * res\n",
    "            end\n",
    "            if F != nothing\n",
    "                l = sum(abs2, res)\n",
    "                return l\n",
    "            end\n",
    "        end\n",
    "       res_fg = optimize(Optim.only_fg!(fg_inner!), βᵢ, method = LBFGS(\n",
    "                alphaguess = LineSearches.InitialStatic(),\n",
    "                linesearch = LineSearches.BackTracking()\n",
    "            ),\n",
    "            g_tol = eps[i],\n",
    "            time_limit = 5.0\n",
    "        )\n",
    "        println(res_fg)\n",
    "        βᵢ = Optim.minimizer(res_fg)\n",
    "    end\n",
    "    \n",
    "    return βᵢ\n",
    "end"
   ]
  },
  {
   "cell_type": "code",
   "execution_count": 109,
   "id": "7d32774c",
   "metadata": {},
   "outputs": [
    {
     "name": "stdout",
     "output_type": "stream",
     "text": [
      "i = 1\n",
      " * Status: success\n",
      "\n",
      " * Candidate solution\n",
      "    Final objective value:     2.714554e-02\n",
      "\n",
      " * Found with\n",
      "    Algorithm:     L-BFGS\n",
      "\n",
      " * Convergence measures\n",
      "    |x - x'|               = 1.02e-02 ≰ 0.0e+00\n",
      "    |x - x'|/|x'|          = 4.81e-04 ≰ 0.0e+00\n",
      "    |f(x) - f(x')|         = 8.22e+00 ≰ 0.0e+00\n",
      "    |f(x) - f(x')|/|f(x')| = 3.03e+02 ≰ 0.0e+00\n",
      "    |g(x)|                 = 5.06e-01 ≤ 1.0e+00\n",
      "\n",
      " * Work counters\n",
      "    Seconds run:   0  (vs limit 5)\n",
      "    Iterations:    3\n",
      "    f(x) calls:    7\n",
      "    ∇f(x) calls:   4\n",
      "\n",
      "i = 2\n",
      " * Status: success\n",
      "\n",
      " * Candidate solution\n",
      "    Final objective value:     4.566229e-05\n",
      "\n",
      " * Found with\n",
      "    Algorithm:     L-BFGS\n",
      "\n",
      " * Convergence measures\n",
      "    |x - x'|               = 1.92e-04 ≰ 0.0e+00\n",
      "    |x - x'|/|x'|          = 1.25e-06 ≰ 0.0e+00\n",
      "    |f(x) - f(x')|         = 3.60e-03 ≰ 0.0e+00\n",
      "    |f(x) - f(x')|/|f(x')| = 7.88e+01 ≰ 0.0e+00\n",
      "    |g(x)|                 = 2.02e-02 ≤ 1.0e-01\n",
      "\n",
      " * Work counters\n",
      "    Seconds run:   0  (vs limit 5)\n",
      "    Iterations:    7\n",
      "    f(x) calls:    11\n",
      "    ∇f(x) calls:   8\n",
      "\n",
      "i = 3\n",
      " * Status: success\n",
      "\n",
      " * Candidate solution\n",
      "    Final objective value:     1.106543e-07\n",
      "\n",
      " * Found with\n",
      "    Algorithm:     L-BFGS\n",
      "\n",
      " * Convergence measures\n",
      "    |x - x'|               = 8.39e-06 ≰ 0.0e+00\n",
      "    |x - x'|/|x'|          = 1.45e-08 ≰ 0.0e+00\n",
      "    |f(x) - f(x')|         = 7.74e-06 ≰ 0.0e+00\n",
      "    |f(x) - f(x')|/|f(x')| = 6.99e+01 ≰ 0.0e+00\n",
      "    |g(x)|                 = 1.11e-03 ≤ 1.0e-02\n",
      "\n",
      " * Work counters\n",
      "    Seconds run:   0  (vs limit 5)\n",
      "    Iterations:    14\n",
      "    f(x) calls:    18\n",
      "    ∇f(x) calls:   15\n",
      "\n",
      "i = 4\n",
      " * Status: success\n",
      "\n",
      " * Candidate solution\n",
      "    Final objective value:     9.297219e-06\n",
      "\n",
      " * Found with\n",
      "    Algorithm:     L-BFGS\n",
      "\n",
      " * Convergence measures\n",
      "    |x - x'|               = 1.27e-05 ≰ 0.0e+00\n",
      "    |x - x'|/|x'|          = 1.22e-08 ≰ 0.0e+00\n",
      "    |f(x) - f(x')|         = 1.84e-05 ≰ 0.0e+00\n",
      "    |f(x) - f(x')|/|f(x')| = 1.97e+00 ≰ 0.0e+00\n",
      "    |g(x)|                 = 7.55e-03 ≤ 1.0e-02\n",
      "\n",
      " * Work counters\n",
      "    Seconds run:   0  (vs limit 5)\n",
      "    Iterations:    22\n",
      "    f(x) calls:    28\n",
      "    ∇f(x) calls:   23\n",
      "\n",
      "i = 5\n",
      " * Status: success\n",
      "\n",
      " * Candidate solution\n",
      "    Final objective value:     4.329968e-08\n",
      "\n",
      " * Found with\n",
      "    Algorithm:     L-BFGS\n",
      "\n",
      " * Convergence measures\n",
      "    |x - x'|               = 1.06e-06 ≰ 0.0e+00\n",
      "    |x - x'|/|x'|          = 8.51e-10 ≰ 0.0e+00\n",
      "    |f(x) - f(x')|         = 2.05e-07 ≰ 0.0e+00\n",
      "    |f(x) - f(x')|/|f(x')| = 4.74e+00 ≰ 0.0e+00\n",
      "    |g(x)|                 = 4.81e-04 ≤ 1.0e-03\n",
      "\n",
      " * Work counters\n",
      "    Seconds run:   1  (vs limit 5)\n",
      "    Iterations:    45\n",
      "    f(x) calls:    54\n",
      "    ∇f(x) calls:   46\n",
      "\n"
     ]
    },
    {
     "data": {
      "text/plain": [
       "1000-element Vector{Float64}:\n",
       "  138.35033734761888\n",
       " -469.35693443384685\n",
       "  815.929803486784\n",
       "  176.1439997053514\n",
       " -116.06183114186759\n",
       "   69.51238432936839\n",
       "  567.9800892406682\n",
       "  -33.58391142097452\n",
       "  659.4265425962129\n",
       " -288.62809440055065\n",
       "  -66.63552635754452\n",
       "  477.6613690854057\n",
       "  273.56681737181503\n",
       "    ⋮\n",
       "  731.866917321932\n",
       "  847.6893598865106\n",
       "  441.56862890966363\n",
       "  922.5730126128735\n",
       "  292.31370333654337\n",
       "  394.28749982890497\n",
       "  520.0956805737047\n",
       " 1004.2753184924477\n",
       "  534.5337693452221\n",
       "  325.29541364213236\n",
       "  991.9938682844304\n",
       "  503.5421679096379"
      ]
     },
     "execution_count": 109,
     "metadata": {},
     "output_type": "execute_result"
    }
   ],
   "source": [
    "βₗ =  ra_lbfgs(eps, mbs, zeros(p))"
   ]
  },
  {
   "cell_type": "code",
   "execution_count": null,
   "id": "d8711bbf",
   "metadata": {},
   "outputs": [],
   "source": []
  },
  {
   "cell_type": "code",
   "execution_count": null,
   "id": "5bed6d9d",
   "metadata": {},
   "outputs": [],
   "source": []
  }
 ],
 "metadata": {
  "kernelspec": {
   "display_name": "Julia 1.7.3",
   "language": "julia",
   "name": "julia-1.7"
  },
  "language_info": {
   "file_extension": ".jl",
   "mimetype": "application/julia",
   "name": "julia",
   "version": "1.7.3"
  }
 },
 "nbformat": 4,
 "nbformat_minor": 5
}
