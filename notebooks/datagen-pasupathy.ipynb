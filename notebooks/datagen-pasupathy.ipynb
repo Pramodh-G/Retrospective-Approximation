{
 "cells": [
  {
   "cell_type": "code",
   "execution_count": 1,
   "id": "970d538f",
   "metadata": {},
   "outputs": [],
   "source": [
    "using Distributions, CSV, DataFrames, LinearAlgebra, DelimitedFiles"
   ]
  },
  {
   "cell_type": "code",
   "execution_count": 12,
   "id": "68d7fc24",
   "metadata": {},
   "outputs": [
    {
     "data": {
      "text/plain": [
       "10000"
      ]
     },
     "execution_count": 12,
     "metadata": {},
     "output_type": "execute_result"
    }
   ],
   "source": [
    "p = 500\n",
    "n = 10_000"
   ]
  },
  {
   "cell_type": "code",
   "execution_count": 3,
   "id": "6c630f26",
   "metadata": {},
   "outputs": [],
   "source": [
    "# convert directly to float64\n",
    "β = collect(1:1.0:p);"
   ]
  },
  {
   "cell_type": "code",
   "execution_count": 4,
   "id": "3813f2c3",
   "metadata": {},
   "outputs": [],
   "source": [
    "X = randn(n, p);"
   ]
  },
  {
   "cell_type": "code",
   "execution_count": 6,
   "id": "c1ef53f5",
   "metadata": {},
   "outputs": [],
   "source": [
    "dot(X[2, :], β);"
   ]
  },
  {
   "cell_type": "code",
   "execution_count": 7,
   "id": "a008d5cc",
   "metadata": {},
   "outputs": [],
   "source": [
    "y = X * β;"
   ]
  },
  {
   "cell_type": "code",
   "execution_count": 10,
   "id": "3da9e1d3",
   "metadata": {},
   "outputs": [
    {
     "data": {
      "text/plain": [
       "30000×1001 Matrix{Float64}:\n",
       " -1.72361    -0.0443617  -0.707144  …   0.548411    0.0963237   19070.2\n",
       "  1.26933    -0.45895    -2.1799       -0.801025    0.0103951   -2985.88\n",
       " -1.0917      0.546852   -0.629289      0.421001    0.761442     7513.07\n",
       " -0.481513   -0.0588026  -0.346835     -2.53735    -0.6856       6078.39\n",
       "  0.509737    0.338652    1.47638       0.228555   -0.129582    -7066.38\n",
       " -0.243003    0.199558    0.871392  …  -1.29945     0.625238    20997.0\n",
       " -0.641502    0.461489    0.431113      1.75732    -0.805862   -12831.5\n",
       "  0.262949   -1.71856     1.34629      -0.749745    2.30697     -3899.51\n",
       " -1.06643    -0.807796   -1.0402       -0.330884    0.368631    11022.7\n",
       "  0.0487561   0.830429    0.7606       -0.912559   -1.33579    -28122.2\n",
       " -0.200123    0.117725   -0.190619  …   0.985111    0.319914    24044.1\n",
       " -0.136786   -0.762892   -0.209317      0.651729    0.0708307    4427.19\n",
       " -1.30073    -0.528989   -1.40115      -1.18275     0.812005    17823.9\n",
       "  ⋮                                 ⋱                               ⋮\n",
       "  1.27679    -0.82702    -1.46954      -0.548074   -0.312885     7362.34\n",
       "  0.298182   -0.358035    0.810798      0.76989    -0.538651   -35756.0\n",
       " -0.0130929   0.427535   -1.68744   …  -0.529636    0.313813   -27256.9\n",
       "  1.9607     -2.78483    -0.173221     -0.0556677  -0.180101     1120.61\n",
       "  1.2106      0.0216563  -1.59304       1.67653    -1.25882     27718.1\n",
       " -0.635081   -0.561739   -1.10057      -0.972597   -0.258013    -5387.99\n",
       " -1.91682    -0.390255    0.163405     -2.21991     0.582163   -18263.9\n",
       "  0.087287    1.50762     0.425083  …   1.3947      0.952806    -7286.66\n",
       " -1.81959     1.84857    -0.589867      2.29961    -0.26401       971.582\n",
       "  0.0607592   1.44714     0.519741      1.17326    -1.64402      2400.54\n",
       " -0.740347   -0.437451    0.332788     -1.21542     0.062649    -2824.68\n",
       " -1.97015    -0.452205   -0.366341      0.0692116   0.404725     5760.68"
      ]
     },
     "execution_count": 10,
     "metadata": {},
     "output_type": "execute_result"
    }
   ],
   "source": [
    "data = [X ;; y]"
   ]
  },
  {
   "cell_type": "code",
   "execution_count": 11,
   "id": "326418c1",
   "metadata": {},
   "outputs": [
    {
     "data": {
      "text/plain": [
       "\"../data/lin_reg.csv\""
      ]
     },
     "execution_count": 11,
     "metadata": {},
     "output_type": "execute_result"
    }
   ],
   "source": [
    "CSV.write(\"../data/lin_reg.csv\", DataFrame(data, :auto))"
   ]
  },
  {
   "cell_type": "code",
   "execution_count": null,
   "id": "4a417cb3",
   "metadata": {},
   "outputs": [],
   "source": []
  }
 ],
 "metadata": {
  "kernelspec": {
   "display_name": "Julia 1.7.3",
   "language": "julia",
   "name": "julia-1.7"
  },
  "language_info": {
   "file_extension": ".jl",
   "mimetype": "application/julia",
   "name": "julia",
   "version": "1.7.3"
  }
 },
 "nbformat": 4,
 "nbformat_minor": 5
}
