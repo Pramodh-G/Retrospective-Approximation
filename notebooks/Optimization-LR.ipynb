{
 "cells": [
  {
   "cell_type": "code",
   "execution_count": 1,
   "id": "d6f02443",
   "metadata": {},
   "outputs": [],
   "source": [
    "using LinearAlgebra, Distributions, Random\n",
    "using CSV, DataFrames, DelimitedFiles"
   ]
  },
  {
   "cell_type": "code",
   "execution_count": 2,
   "id": "d6dd8a5e",
   "metadata": {},
   "outputs": [],
   "source": [
    "data = CSV.read(\"../data/lr.csv\", DataFrame);\n",
    "data = Matrix(data);"
   ]
  },
  {
   "cell_type": "code",
   "execution_count": 3,
   "id": "c56a89c7",
   "metadata": {},
   "outputs": [],
   "source": [
    "X = data[:, 1:end - 1];\n",
    "y = data[:, end];"
   ]
  },
  {
   "cell_type": "code",
   "execution_count": 4,
   "id": "996009b0",
   "metadata": {},
   "outputs": [
    {
     "data": {
      "text/plain": [
       "(100000, 10)"
      ]
     },
     "execution_count": 4,
     "metadata": {},
     "output_type": "execute_result"
    }
   ],
   "source": [
    "n, p = size(X)"
   ]
  },
  {
   "cell_type": "code",
   "execution_count": 5,
   "id": "d2523183",
   "metadata": {},
   "outputs": [
    {
     "data": {
      "text/plain": [
       "σ (generic function with 1 method)"
      ]
     },
     "execution_count": 5,
     "metadata": {},
     "output_type": "execute_result"
    }
   ],
   "source": [
    "function σ(x)\n",
    "    return one(x) / (one(x) + exp(-x))\n",
    "end"
   ]
  },
  {
   "cell_type": "code",
   "execution_count": 6,
   "id": "a1d8d014",
   "metadata": {},
   "outputs": [
    {
     "data": {
      "text/plain": [
       "grad (generic function with 1 method)"
      ]
     },
     "execution_count": 6,
     "metadata": {},
     "output_type": "execute_result"
    }
   ],
   "source": [
    "# return expected gradient with respect to current β.\n",
    "function grad(X, y, β)\n",
    "    n_obs = size(X)[1]\n",
    "    prob = σ.(X * β)\n",
    "    g  = X' * (prob .- y)\n",
    "    return g\n",
    "end"
   ]
  },
  {
   "cell_type": "code",
   "execution_count": 7,
   "id": "be8420ef",
   "metadata": {},
   "outputs": [
    {
     "data": {
      "text/plain": [
       "batch_shuffle (generic function with 1 method)"
      ]
     },
     "execution_count": 7,
     "metadata": {},
     "output_type": "execute_result"
    }
   ],
   "source": [
    "function batch_shuffle(X, y, mb_size)\n",
    "    n = size(X)[1]\n",
    "    perm = randperm(n)[1:mb_size]\n",
    "    X_mini = @view X[perm, :]\n",
    "    y_mini = @view y[perm, :]\n",
    "    return X_mini, y_mini\n",
    "end"
   ]
  },
  {
   "cell_type": "code",
   "execution_count": 8,
   "id": "f8b24e03",
   "metadata": {
    "scrolled": true
   },
   "outputs": [
    {
     "data": {
      "text/plain": [
       "step (generic function with 1 method)"
      ]
     },
     "execution_count": 8,
     "metadata": {},
     "output_type": "execute_result"
    }
   ],
   "source": [
    "function step(βₖ, αₖ, ∇βₖ)\n",
    "    βₖ₊₁ = @. βₖ - αₖ * ∇βₖ\n",
    "    return βₖ₊₁\n",
    "end"
   ]
  },
  {
   "cell_type": "code",
   "execution_count": 78,
   "id": "9f0752f3",
   "metadata": {},
   "outputs": [
    {
     "data": {
      "text/plain": [
       "loss (generic function with 1 method)"
      ]
     },
     "execution_count": 78,
     "metadata": {},
     "output_type": "execute_result"
    }
   ],
   "source": [
    "function loss(X, y, β)\n",
    "    ŷ = σ.(X * β)\n",
    "    loss_vector = @. y * log(ŷ) + (1 - y) * log(1 - ŷ)\n",
    "    l = -sum(loss_vector)\n",
    "    \n",
    "    return l\n",
    "end"
   ]
  },
  {
   "cell_type": "markdown",
   "id": "d9a7ffba",
   "metadata": {},
   "source": [
    "# SGD "
   ]
  },
  {
   "cell_type": "code",
   "execution_count": 79,
   "id": "529ad419",
   "metadata": {},
   "outputs": [
    {
     "data": {
      "text/plain": [
       "sgd (generic function with 2 methods)"
      ]
     },
     "execution_count": 79,
     "metadata": {},
     "output_type": "execute_result"
    }
   ],
   "source": [
    "function sgd(X, y, β₀, α, eps, mb, max_iter = 10000)\n",
    "    βᵢ = β₀\n",
    "    ∇βᵢ = ones(p)\n",
    "    niter = 0\n",
    "    norm_∇βᵢ = 100\n",
    "    \n",
    "    while(norm_∇βᵢ > eps && niter < max_iter)\n",
    "        \n",
    "        X_mini, y_mini = batch_shuffle(X, y, mb)\n",
    "        ∇βᵢ = grad(X_mini, y_mini, βᵢ)\n",
    "        βᵢ₊₁ = step(βᵢ, α, ∇βᵢ)\n",
    "        βᵢ = βᵢ₊₁\n",
    "        \n",
    "        #iteration wise metrics\n",
    "        niter+=1\n",
    "        norm_∇βᵢ = norm(∇βᵢ / mb)\n",
    "        \n",
    "        if (niter % 10) == 0\n",
    "            @show niter, norm_∇βᵢ, loss(X_mini, y_mini, βᵢ)\n",
    "        end\n",
    "    end\n",
    "    \n",
    "    return βᵢ, niter\n",
    "end      "
   ]
  },
  {
   "cell_type": "code",
   "execution_count": 80,
   "id": "399b5c17",
   "metadata": {},
   "outputs": [
    {
     "name": "stdout",
     "output_type": "stream",
     "text": [
      "(niter, norm_∇βᵢ, loss(X_mini, y_mini, βᵢ)) = (10, 0.1382059584924652, 242.78176905997185)\n",
      "(niter, norm_∇βᵢ, loss(X_mini, y_mini, βᵢ)) = (20, 0.09592909771383393, 217.8910106515754)\n",
      "(niter, norm_∇βᵢ, loss(X_mini, y_mini, βᵢ)) = (30, 0.07266981955685559, 203.98524715281445)\n",
      "(niter, norm_∇βᵢ, loss(X_mini, y_mini, βᵢ)) = (40, 0.043115623935796696, 239.59457408314694)\n",
      "(niter, norm_∇βᵢ, loss(X_mini, y_mini, βᵢ)) = (50, 0.06507745881303022, 200.9735808491134)\n",
      "(niter, norm_∇βᵢ, loss(X_mini, y_mini, βᵢ)) = (60, 0.049427710589062465, 216.51714869074323)\n",
      "(niter, norm_∇βᵢ, loss(X_mini, y_mini, βᵢ)) = (70, 0.0660404565766202, 212.1815042514315)\n",
      "(niter, norm_∇βᵢ, loss(X_mini, y_mini, βᵢ)) = (80, 0.0516977671116104, 213.97198862964652)\n",
      "(niter, norm_∇βᵢ, loss(X_mini, y_mini, βᵢ)) = (90, 0.05091019730923038, 197.01883043599221)\n",
      "(niter, norm_∇βᵢ, loss(X_mini, y_mini, βᵢ)) = (100, 0.05371989043354199, 196.2618584629307)\n",
      "(niter, norm_∇βᵢ, loss(X_mini, y_mini, βᵢ)) = (110, 0.05691511284036003, 208.4269325907626)\n",
      "(niter, norm_∇βᵢ, loss(X_mini, y_mini, βᵢ)) = (120, 0.04112283055784259, 175.40798322598476)\n",
      "(niter, norm_∇βᵢ, loss(X_mini, y_mini, βᵢ)) = (130, 0.04759917415506905, 220.3387161056133)\n",
      "(niter, norm_∇βᵢ, loss(X_mini, y_mini, βᵢ)) = (140, 0.05829473640834513, 216.46842382178207)\n",
      "(niter, norm_∇βᵢ, loss(X_mini, y_mini, βᵢ)) = (150, 0.05850524352538691, 234.21956018538145)\n",
      "(niter, norm_∇βᵢ, loss(X_mini, y_mini, βᵢ)) = (160, 0.04486252941585059, 214.04393175260878)\n",
      "(niter, norm_∇βᵢ, loss(X_mini, y_mini, βᵢ)) = (170, 0.06264261429837481, 202.68584021674323)\n",
      "(niter, norm_∇βᵢ, loss(X_mini, y_mini, βᵢ)) = (180, 0.0818364140096357, 230.633038174775)\n",
      "(niter, norm_∇βᵢ, loss(X_mini, y_mini, βᵢ)) = (190, 0.03726768081335922, 202.19880164824642)\n",
      "(niter, norm_∇βᵢ, loss(X_mini, y_mini, βᵢ)) = (200, 0.06286252117085778, 207.0096403872819)\n",
      "(niter, norm_∇βᵢ, loss(X_mini, y_mini, βᵢ)) = (210, 0.06041409483632864, 191.8089610180354)\n",
      "(niter, norm_∇βᵢ, loss(X_mini, y_mini, βᵢ)) = (220, 0.032915605793775296, 212.22965437753984)\n",
      "(niter, norm_∇βᵢ, loss(X_mini, y_mini, βᵢ)) = (230, 0.049417872905805064, 217.8977059962153)\n",
      "(niter, norm_∇βᵢ, loss(X_mini, y_mini, βᵢ)) = (240, 0.050521103792269866, 221.03309354284914)\n",
      "(niter, norm_∇βᵢ, loss(X_mini, y_mini, βᵢ)) = (250, 0.04701997284067248, 229.4678258541458)\n",
      "(niter, norm_∇βᵢ, loss(X_mini, y_mini, βᵢ)) = (260, 0.058385271048933964, 215.94225901973098)\n",
      "(niter, norm_∇βᵢ, loss(X_mini, y_mini, βᵢ)) = (270, 0.050219697355167056, 207.220279437918)\n",
      "(niter, norm_∇βᵢ, loss(X_mini, y_mini, βᵢ)) = (280, 0.06903182504237051, 225.83276705951494)\n",
      "(niter, norm_∇βᵢ, loss(X_mini, y_mini, βᵢ)) = (290, 0.0414350215743225, 241.89993525416546)\n",
      "(niter, norm_∇βᵢ, loss(X_mini, y_mini, βᵢ)) = (300, 0.04484870980232801, 195.36228146929807)\n",
      "(niter, norm_∇βᵢ, loss(X_mini, y_mini, βᵢ)) = (310, 0.057303307106881196, 217.9892474736298)\n",
      "(niter, norm_∇βᵢ, loss(X_mini, y_mini, βᵢ)) = (320, 0.05059741361401185, 201.96836879561445)\n",
      "(niter, norm_∇βᵢ, loss(X_mini, y_mini, βᵢ)) = (330, 0.0544842434010365, 205.66121519469286)\n",
      "(niter, norm_∇βᵢ, loss(X_mini, y_mini, βᵢ)) = (340, 0.06223312394128332, 208.1272948725907)\n",
      "(niter, norm_∇βᵢ, loss(X_mini, y_mini, βᵢ)) = (350, 0.05315752772168598, 207.11498730405324)\n",
      "(niter, norm_∇βᵢ, loss(X_mini, y_mini, βᵢ)) = (360, 0.03938713338252477, 227.1639295894464)\n",
      "(niter, norm_∇βᵢ, loss(X_mini, y_mini, βᵢ)) = (370, 0.04320736947053916, 189.98263455032057)\n",
      "(niter, norm_∇βᵢ, loss(X_mini, y_mini, βᵢ)) = (380, 0.08205544590845357, 234.24723764333638)\n",
      "(niter, norm_∇βᵢ, loss(X_mini, y_mini, βᵢ)) = (390, 0.05964916879143608, 201.9410704488621)\n",
      "(niter, norm_∇βᵢ, loss(X_mini, y_mini, βᵢ)) = (400, 0.05298826280810231, 177.56300484707805)\n",
      "(niter, norm_∇βᵢ, loss(X_mini, y_mini, βᵢ)) = (410, 0.04698101455277285, 208.0810743402915)\n",
      "(niter, norm_∇βᵢ, loss(X_mini, y_mini, βᵢ)) = (420, 0.06316448989334282, 215.69440677255537)\n",
      "(niter, norm_∇βᵢ, loss(X_mini, y_mini, βᵢ)) = (430, 0.05815767750508811, 222.37167461343114)\n",
      "(niter, norm_∇βᵢ, loss(X_mini, y_mini, βᵢ)) = (440, 0.05809550831171296, 215.80948395204516)\n",
      "(niter, norm_∇βᵢ, loss(X_mini, y_mini, βᵢ)) = (450, 0.04869276596912587, 213.12090002103562)\n",
      "(niter, norm_∇βᵢ, loss(X_mini, y_mini, βᵢ)) = (460, 0.040350052136797106, 226.3596310076775)\n",
      "(niter, norm_∇βᵢ, loss(X_mini, y_mini, βᵢ)) = (470, 0.040329251449868195, 212.78398329812944)\n",
      "(niter, norm_∇βᵢ, loss(X_mini, y_mini, βᵢ)) = (480, 0.042094390095757925, 223.7862266707117)\n",
      "(niter, norm_∇βᵢ, loss(X_mini, y_mini, βᵢ)) = (490, 0.028279881930857047, 210.24956977545273)\n",
      "(niter, norm_∇βᵢ, loss(X_mini, y_mini, βᵢ)) = (500, 0.06070828054927525, 207.7703304641068)\n",
      "(niter, norm_∇βᵢ, loss(X_mini, y_mini, βᵢ)) = (510, 0.05651311927675795, 195.41896171998644)\n",
      "(niter, norm_∇βᵢ, loss(X_mini, y_mini, βᵢ)) = (520, 0.06575744823230642, 213.6723700314924)\n",
      "(niter, norm_∇βᵢ, loss(X_mini, y_mini, βᵢ)) = (530, 0.03771030629963589, 225.29230486074525)\n",
      "(niter, norm_∇βᵢ, loss(X_mini, y_mini, βᵢ)) = (540, 0.03698942693959751, 218.7239211334895)\n",
      "(niter, norm_∇βᵢ, loss(X_mini, y_mini, βᵢ)) = (550, 0.0407368613131286, 222.24163512366715)\n",
      "(niter, norm_∇βᵢ, loss(X_mini, y_mini, βᵢ)) = (560, 0.03778003577916216, 203.50389948838003)\n",
      "(niter, norm_∇βᵢ, loss(X_mini, y_mini, βᵢ)) = (570, 0.02047665792702844, 217.30241310698307)\n",
      "(niter, norm_∇βᵢ, loss(X_mini, y_mini, βᵢ)) = (580, 0.06302113071951208, 211.2587084564815)\n",
      "(niter, norm_∇βᵢ, loss(X_mini, y_mini, βᵢ)) = (590, 0.049722020595373964, 183.35003496671322)\n",
      "(niter, norm_∇βᵢ, loss(X_mini, y_mini, βᵢ)) = (600, 0.04631694612350369, 203.64226545824283)\n",
      "(niter, norm_∇βᵢ, loss(X_mini, y_mini, βᵢ)) = (610, 0.049077890397759456, 219.82021529127684)\n",
      "(niter, norm_∇βᵢ, loss(X_mini, y_mini, βᵢ)) = (620, 0.04547544694417596, 216.45551555313406)\n",
      "(niter, norm_∇βᵢ, loss(X_mini, y_mini, βᵢ)) = (630, 0.06143680359593179, 217.23247283778494)\n",
      "(niter, norm_∇βᵢ, loss(X_mini, y_mini, βᵢ)) = (640, 0.027679439712025716, 210.20090686561886)\n",
      "(niter, norm_∇βᵢ, loss(X_mini, y_mini, βᵢ)) = (650, 0.04848487859427969, 202.01706642711892)\n",
      "(niter, norm_∇βᵢ, loss(X_mini, y_mini, βᵢ)) = (660, 0.07569971673494429, 200.73653849577695)\n",
      "(niter, norm_∇βᵢ, loss(X_mini, y_mini, βᵢ)) = (670, 0.028533893710407734, 203.78678062524827)\n",
      "(niter, norm_∇βᵢ, loss(X_mini, y_mini, βᵢ)) = (680, 0.05762862430420587, 206.2095870379155)\n",
      "(niter, norm_∇βᵢ, loss(X_mini, y_mini, βᵢ)) = (690, 0.05424424055224594, 201.03536918409702)\n",
      "(niter, norm_∇βᵢ, loss(X_mini, y_mini, βᵢ)) = (700, 0.051874956179461994, 205.02112970149636)\n"
     ]
    },
    {
     "data": {
      "text/plain": [
       "([0.6117888865621274; 1.4700089133746121; … ; 1.1387085225999942; 0.17446347830309683;;], 703)"
      ]
     },
     "execution_count": 80,
     "metadata": {},
     "output_type": "execute_result"
    }
   ],
   "source": [
    "βₛ, Nₛ = sgd(X, y, zeros(p), 1e-3, 0.02, 500)"
   ]
  },
  {
   "cell_type": "code",
   "execution_count": 81,
   "id": "1f8ed82c",
   "metadata": {},
   "outputs": [
    {
     "data": {
      "text/plain": [
       "703000"
      ]
     },
     "execution_count": 81,
     "metadata": {},
     "output_type": "execute_result"
    }
   ],
   "source": [
    "#number of gradient calculations\n",
    "Nₛ * 1000"
   ]
  },
  {
   "cell_type": "code",
   "execution_count": 220,
   "id": "01e050e3",
   "metadata": {},
   "outputs": [
    {
     "data": {
      "text/plain": [
       "0.4215038487685323"
      ]
     },
     "execution_count": 220,
     "metadata": {},
     "output_type": "execute_result"
    }
   ],
   "source": [
    "# check to make sure our algorithm is working.\n",
    "grad(X, y, βₛ) / n\n",
    "loss(X, y, βₛ) / n"
   ]
  },
  {
   "cell_type": "code",
   "execution_count": 229,
   "id": "b1c62565",
   "metadata": {},
   "outputs": [
    {
     "data": {
      "text/plain": [
       "0.43593073069510224"
      ]
     },
     "execution_count": 229,
     "metadata": {},
     "output_type": "execute_result"
    }
   ],
   "source": [
    "mb_size = 1000\n",
    "X_mini, y_mini = batch_shuffle(X, y, mb_size)\n",
    "grad(X_mini, y_mini, βₛ) / mb_size\n",
    "loss(X_mini, y_mini, βₛ) / mb_size"
   ]
  },
  {
   "cell_type": "markdown",
   "id": "5128377d",
   "metadata": {},
   "source": [
    "# Retrospective Approximation"
   ]
  },
  {
   "cell_type": "code",
   "execution_count": 17,
   "id": "bf7ed650",
   "metadata": {},
   "outputs": [
    {
     "data": {
      "text/plain": [
       "mb_update (generic function with 1 method)"
      ]
     },
     "execution_count": 17,
     "metadata": {},
     "output_type": "execute_result"
    }
   ],
   "source": [
    "function mb_update(mbₖ, Cₖ)\n",
    "    return mbₖ * Cₖ\n",
    "end"
   ]
  },
  {
   "cell_type": "code",
   "execution_count": 18,
   "id": "38ae0046",
   "metadata": {},
   "outputs": [],
   "source": [
    "eps = [1, 0.2, 0.16, 0.11, 0.09, 0.05, 0.02]\n",
    "mbs = [2, 20, 50, 100, 200, 500, 1000];"
   ]
  },
  {
   "cell_type": "code",
   "execution_count": 19,
   "id": "d6d227fd",
   "metadata": {},
   "outputs": [
    {
     "data": {
      "text/plain": [
       "ra (generic function with 1 method)"
      ]
     },
     "execution_count": 19,
     "metadata": {},
     "output_type": "execute_result"
    }
   ],
   "source": [
    "function ra(mbs, eps, β₀)\n",
    "    \n",
    "    @assert(size(mbs) == size(eps))\n",
    "    nₒ = size(mbs)[1]\n",
    "    niter_total = 0\n",
    "    ngrad_total = 0\n",
    "    βᵢ = β₀\n",
    "    @show nₒ\n",
    "    \n",
    "    # outer iterations\n",
    "    for i in 1:nₒ\n",
    "        X_inner, y_inner = batch_shuffle(X, y, mbs[i])\n",
    "        @show i eps[i] mbs[i]\n",
    "        βᵢ₊₁, niter_inner = sgd(X_inner, y_inner, βᵢ, 1e-3, eps[i], mbs[i])\n",
    "        @show niter_inner\n",
    "        \n",
    "        niter_total += niter_inner\n",
    "        ngrad_total += niter_inner * mbs[i]\n",
    "        βᵢ = βᵢ₊₁\n",
    "    end\n",
    "    return βᵢ, niter_total, ngrad_total\n",
    "end"
   ]
  },
  {
   "cell_type": "code",
   "execution_count": 20,
   "id": "1d2d92c6",
   "metadata": {},
   "outputs": [
    {
     "name": "stdout",
     "output_type": "stream",
     "text": [
      "nₒ = 7\n",
      "i = 1\n",
      "eps[i] = 1.0\n",
      "mbs[i] = 2\n",
      "niter_inner = 21\n",
      "i = 2\n",
      "eps[i] = 0.2\n",
      "mbs[i] = 20\n",
      "niter_inner = 141\n",
      "i = 3\n",
      "eps[i] = 0.16\n",
      "mbs[i] = 50\n",
      "niter_inner = 74\n",
      "i = 4\n",
      "eps[i] = 0.11\n",
      "mbs[i] = 100\n",
      "niter_inner = 37\n",
      "i = 5\n",
      "eps[i] = 0.09\n",
      "mbs[i] = 200\n",
      "niter_inner = 17\n",
      "i = 6\n",
      "eps[i] = 0.05\n",
      "mbs[i] = 500\n",
      "niter_inner = 10\n",
      "i = 7\n",
      "eps[i] = 0.02\n",
      "mbs[i] = 1000\n",
      "niter_inner = 9\n"
     ]
    },
    {
     "data": {
      "text/plain": [
       "([0.49551182200850363; 1.1873646766914587; … ; 1.013393899676174; 0.10656447759812859;;], 309, 27662)"
      ]
     },
     "execution_count": 20,
     "metadata": {},
     "output_type": "execute_result"
    }
   ],
   "source": [
    "βᵣ, Nᵣ, ngradᵣ =  ra(mbs, eps, zeros(p))"
   ]
  },
  {
   "cell_type": "code",
   "execution_count": 21,
   "id": "bdbbcd33",
   "metadata": {},
   "outputs": [
    {
     "data": {
      "text/plain": [
       "0.031153715317842248"
      ]
     },
     "execution_count": 21,
     "metadata": {},
     "output_type": "execute_result"
    }
   ],
   "source": [
    "norm(grad(X, y, βᵣ) / n)"
   ]
  },
  {
   "cell_type": "code",
   "execution_count": 72,
   "id": "311b5a00",
   "metadata": {},
   "outputs": [
    {
     "ename": "LoadError",
     "evalue": "UndefVarError: β not defined",
     "output_type": "error",
     "traceback": [
      "UndefVarError: β not defined",
      "",
      "Stacktrace:",
      " [1] top-level scope",
      "   @ In[72]:1",
      " [2] eval",
      "   @ ./boot.jl:373 [inlined]",
      " [3] include_string(mapexpr::typeof(REPL.softscope), mod::Module, code::String, filename::String)",
      "   @ Base ./loading.jl:1196"
     ]
    }
   ],
   "source": [
    "prob = σ.(X * β) \n",
    "yᵢ = Bern(probᵢ)"
   ]
  },
  {
   "cell_type": "markdown",
   "id": "613fa029",
   "metadata": {},
   "source": [
    "# SGD with stepsize decay"
   ]
  },
  {
   "cell_type": "code",
   "execution_count": 308,
   "id": "c95fdabe",
   "metadata": {},
   "outputs": [
    {
     "data": {
      "text/plain": [
       "sgd_decay (generic function with 3 methods)"
      ]
     },
     "execution_count": 308,
     "metadata": {},
     "output_type": "execute_result"
    }
   ],
   "source": [
    "function sgd_decay(X, y, β₀, α, ϵ, mb; lag = 50, max_iter = 1000)\n",
    "    βᵢ = β₀\n",
    "    ∇βᵢ = ones(p)\n",
    "    niter = 0\n",
    "    norm_∇βᵢ = 100\n",
    "    min_norm_∇βᵢ = 1000\n",
    "    no_imp_iter = 0\n",
    "    \n",
    "    while(norm_∇βᵢ > ϵ && niter < max_iter)\n",
    "        \n",
    "        #take steps.\n",
    "        X_mini, y_mini = batch_shuffle(X, y, mb)\n",
    "        ∇βᵢ = grad(X_mini, y_mini, βᵢ)\n",
    "        βᵢ₊₁ = step(βᵢ, α, ∇βᵢ)\n",
    "        βᵢ = βᵢ₊₁\n",
    "        \n",
    "        #iteration wise metrics\n",
    "        niter+=1\n",
    "        norm_∇βᵢ = norm(∇βᵢ / mb)\n",
    "        l = loss(X_mini, y_mini, βᵢ) / mb\n",
    "        \n",
    "        # count iterations for which there has been no improvement in loss.\n",
    "        if norm_∇βᵢ <= min_norm_∇βᵢ\n",
    "            no_imp_iter = 0\n",
    "            min_norm_∇βᵢ = norm_∇βᵢ\n",
    "        else\n",
    "            no_imp_iter+=1\n",
    "        end\n",
    "        \n",
    "        #display metrics\n",
    "        if (niter % 500) == 0\n",
    "            @show norm_∇βᵢ, α, min_norm_∇βᵢ\n",
    "        end\n",
    "        \n",
    "        # if no improvement in norm for \"lag\" iterations, reduce learning rate.\n",
    "        if no_imp_iter >= lag\n",
    "            α = α * 0.2\n",
    "            @show norm_∇βᵢ, α, min_norm_∇βᵢ\n",
    "            no_imp_iter = 0\n",
    "        end\n",
    "    end\n",
    "    \n",
    "    return βᵢ, niter, α\n",
    "end"
   ]
  },
  {
   "cell_type": "code",
   "execution_count": 310,
   "id": "c51e45cc",
   "metadata": {},
   "outputs": [
    {
     "name": "stdout",
     "output_type": "stream",
     "text": [
      "(norm_∇βᵢ, α, min_norm_∇βᵢ) = (0.038812752684404206, 0.0002, 0.016594675830095298)\n",
      "(norm_∇βᵢ, α, min_norm_∇βᵢ) = (0.016592623567614713, 4.0e-5, 0.013492138944955517)\n",
      "(norm_∇βᵢ, α, min_norm_∇βᵢ) = (0.040160345715200774, 8.000000000000001e-6, 0.013492138944955517)\n",
      "(norm_∇βᵢ, α, min_norm_∇βᵢ) = (0.024751539085444776, 1.6000000000000004e-6, 0.012156606619395879)\n",
      "(norm_∇βᵢ, α, min_norm_∇βᵢ) = (0.03693136039578351, 3.200000000000001e-7, 0.012156606619395879)\n",
      "(norm_∇βᵢ, α, min_norm_∇βᵢ) = (0.03515042679099938, 3.200000000000001e-7, 0.011468708848815548)\n",
      "(norm_∇βᵢ, α, min_norm_∇βᵢ) = (0.03766135892320959, 6.400000000000003e-8, 0.011468708848815548)\n",
      "(norm_∇βᵢ, α, min_norm_∇βᵢ) = (0.03424072340098075, 1.2800000000000007e-8, 0.011468708848815548)\n",
      "(norm_∇βᵢ, α, min_norm_∇βᵢ) = (0.021590494146212256, 2.5600000000000015e-9, 0.011468708848815548)\n",
      "(norm_∇βᵢ, α, min_norm_∇βᵢ) = (0.038182438913260675, 5.120000000000003e-10, 0.011468708848815548)\n",
      "(norm_∇βᵢ, α, min_norm_∇βᵢ) = (0.03369033169014424, 1.0240000000000007e-10, 0.011468708848815548)\n",
      "(norm_∇βᵢ, α, min_norm_∇βᵢ) = (0.02515228951480838, 2.0480000000000016e-11, 0.011468708848815548)\n",
      "(norm_∇βᵢ, α, min_norm_∇βᵢ) = (0.03292683259218826, 4.0960000000000035e-12, 0.011468708848815548)\n",
      "(norm_∇βᵢ, α, min_norm_∇βᵢ) = (0.025403829381742793, 8.192000000000008e-13, 0.011468708848815548)\n",
      "(norm_∇βᵢ, α, min_norm_∇βᵢ) = (0.031218094523988327, 1.6384000000000016e-13, 0.011468708848815548)\n",
      "(norm_∇βᵢ, α, min_norm_∇βᵢ) = (0.0343335050686584, 3.2768000000000034e-14, 0.011468708848815548)\n",
      "(norm_∇βᵢ, α, min_norm_∇βᵢ) = (0.031100382895839166, 3.2768000000000034e-14, 0.011468708848815548)\n",
      "(norm_∇βᵢ, α, min_norm_∇βᵢ) = (0.026820401268519423, 6.553600000000007e-15, 0.011468708848815548)\n",
      "(norm_∇βᵢ, α, min_norm_∇βᵢ) = (0.02467237093271971, 1.3107200000000015e-15, 0.011468708848815548)\n",
      "(norm_∇βᵢ, α, min_norm_∇βᵢ) = (0.030235707908180875, 2.621440000000003e-16, 0.011468708848815548)\n",
      "(norm_∇βᵢ, α, min_norm_∇βᵢ) = (0.0374425862719628, 5.2428800000000064e-17, 0.011468708848815548)\n",
      "(norm_∇βᵢ, α, min_norm_∇βᵢ) = (0.03476318854930823, 1.0485760000000013e-17, 0.011468708848815548)\n",
      "(norm_∇βᵢ, α, min_norm_∇βᵢ) = (0.035433376816709224, 2.097152000000003e-18, 0.011468708848815548)\n",
      "(norm_∇βᵢ, α, min_norm_∇βᵢ) = (0.04239429826615836, 4.194304000000006e-19, 0.011468708848815548)\n",
      "(norm_∇βᵢ, α, min_norm_∇βᵢ) = (0.025269040164631197, 8.388608000000012e-20, 0.011468708848815548)\n",
      "(norm_∇βᵢ, α, min_norm_∇βᵢ) = (0.019170656532097458, 1.6777216000000025e-20, 0.011468708848815548)\n",
      "(norm_∇βᵢ, α, min_norm_∇βᵢ) = (0.025655953246568948, 3.355443200000005e-21, 0.011468708848815548)\n",
      "(norm_∇βᵢ, α, min_norm_∇βᵢ) = (0.026973232230502273, 3.355443200000005e-21, 0.011468708848815548)\n",
      "(norm_∇βᵢ, α, min_norm_∇βᵢ) = (0.016501667332182977, 6.710886400000011e-22, 0.011468708848815548)\n",
      "(norm_∇βᵢ, α, min_norm_∇βᵢ) = (0.035833935614023614, 1.3421772800000022e-22, 0.011468708848815548)\n",
      "(norm_∇βᵢ, α, min_norm_∇βᵢ) = (0.03375157920820545, 2.6843545600000043e-23, 0.011468708848815548)\n"
     ]
    },
    {
     "data": {
      "text/plain": [
       "([0.5810305491296903; 1.4207680030632701; … ; 1.109164227389375; 0.1712325585170614;;], 1646, 2.6843545600000043e-23)"
      ]
     },
     "execution_count": 310,
     "metadata": {},
     "output_type": "execute_result"
    }
   ],
   "source": [
    "βₑ, Nₑ, αₑ =  sgd_decay(X, y, zeros(p), 1e-3, 0.01, 1500, lag = 50, max_iter = 10000)"
   ]
  },
  {
   "cell_type": "code",
   "execution_count": 311,
   "id": "814d74b5",
   "metadata": {},
   "outputs": [
    {
     "data": {
      "text/plain": [
       "10×1 Matrix{Float64}:\n",
       "  0.5810305491296903\n",
       "  1.4207680030632701\n",
       "  0.4295348045020326\n",
       " -0.15885682282788663\n",
       "  1.0069205917132373\n",
       " -0.32529142699927577\n",
       " -0.6220489067412067\n",
       "  0.40485511669316526\n",
       "  1.109164227389375\n",
       "  0.1712325585170614"
      ]
     },
     "execution_count": 311,
     "metadata": {},
     "output_type": "execute_result"
    }
   ],
   "source": [
    "βₑ"
   ]
  },
  {
   "cell_type": "code",
   "execution_count": 312,
   "id": "74764292",
   "metadata": {},
   "outputs": [
    {
     "data": {
      "text/plain": [
       "0.0027623269936933293"
      ]
     },
     "execution_count": 312,
     "metadata": {},
     "output_type": "execute_result"
    }
   ],
   "source": [
    "norm(grad(X, y, βₑ) / n)"
   ]
  },
  {
   "cell_type": "markdown",
   "id": "040515aa",
   "metadata": {},
   "source": [
    "# RA with decay SGD"
   ]
  },
  {
   "cell_type": "code",
   "execution_count": 313,
   "id": "9f6a01f0",
   "metadata": {},
   "outputs": [
    {
     "data": {
      "text/plain": [
       "ra_decay (generic function with 1 method)"
      ]
     },
     "execution_count": 313,
     "metadata": {},
     "output_type": "execute_result"
    }
   ],
   "source": [
    "function ra_decay(mbs, eps, β₀)\n",
    "    \n",
    "    @assert(size(mbs) == size(eps))\n",
    "    nₒ = size(mbs)[1]\n",
    "    niter_total = 0\n",
    "    ngrad_total = 0\n",
    "    βᵢ = β₀\n",
    "    @show nₒ\n",
    "    \n",
    "    # outer iterations\n",
    "    for i in 1:nₒ\n",
    "        X_inner, y_inner = batch_shuffle(X, y, mbs[i])\n",
    "        @show i eps[i] mbs[i]\n",
    "        βᵢ₊₁, niter_inner = sgd_decay(X_inner, y_inner, βᵢ, 1e-3, eps[i], mbs[i])\n",
    "        @show niter_inner\n",
    "        \n",
    "        niter_total += niter_inner\n",
    "        ngrad_total += niter_inner * mbs[i]\n",
    "        βᵢ = βᵢ₊₁\n",
    "    end\n",
    "    return βᵢ, niter_total, ngrad_total\n",
    "end"
   ]
  },
  {
   "cell_type": "code",
   "execution_count": 314,
   "id": "efbd4d80",
   "metadata": {},
   "outputs": [
    {
     "name": "stdout",
     "output_type": "stream",
     "text": [
      "nₒ = 7\n",
      "i = 1\n",
      "eps[i] = 1.0\n",
      "mbs[i] = 2\n",
      "niter_inner = 1\n",
      "i = 2\n",
      "eps[i] = 0.2\n",
      "mbs[i] = 20\n",
      "niter_inner = 169\n",
      "i = 3\n",
      "eps[i] = 0.16\n",
      "mbs[i] = 50\n",
      "niter_inner = 58\n",
      "i = 4\n",
      "eps[i] = 0.11\n",
      "mbs[i] = 100\n",
      "niter_inner = 20\n",
      "i = 5\n",
      "eps[i] = 0.09\n",
      "mbs[i] = 200\n",
      "niter_inner = 10\n",
      "i = 6\n",
      "eps[i] = 0.05\n",
      "mbs[i] = 500\n",
      "niter_inner = 12\n",
      "i = 7\n",
      "eps[i] = 0.02\n",
      "mbs[i] = 1000\n",
      "niter_inner = 15\n"
     ]
    },
    {
     "data": {
      "text/plain": [
       "([0.4843171301404079; 1.3706241374411625; … ; 0.9144653622641016; 0.19949178583093152;;], 285, 31282)"
      ]
     },
     "execution_count": 314,
     "metadata": {},
     "output_type": "execute_result"
    }
   ],
   "source": [
    "ra_decay(mbs, eps, zeros(p))"
   ]
  },
  {
   "cell_type": "code",
   "execution_count": null,
   "id": "1ad76420",
   "metadata": {},
   "outputs": [],
   "source": []
  }
 ],
 "metadata": {
  "kernelspec": {
   "display_name": "Julia 1.7.3",
   "language": "julia",
   "name": "julia-1.7"
  },
  "language_info": {
   "file_extension": ".jl",
   "mimetype": "application/julia",
   "name": "julia",
   "version": "1.7.3"
  }
 },
 "nbformat": 4,
 "nbformat_minor": 5
}
