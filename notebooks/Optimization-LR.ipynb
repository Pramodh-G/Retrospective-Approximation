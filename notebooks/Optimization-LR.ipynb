{
 "cells": [
  {
   "cell_type": "code",
   "execution_count": 1,
   "id": "d6f02443",
   "metadata": {},
   "outputs": [],
   "source": [
    "using LinearAlgebra, Distributions, Random\n",
    "using CSV, DataFrames, DelimitedFiles"
   ]
  },
  {
   "cell_type": "code",
   "execution_count": 2,
   "id": "d6dd8a5e",
   "metadata": {},
   "outputs": [],
   "source": [
    "data = CSV.read(\"../data/lr.csv\", DataFrame);\n",
    "data = Matrix(data);"
   ]
  },
  {
   "cell_type": "code",
   "execution_count": 3,
   "id": "c56a89c7",
   "metadata": {},
   "outputs": [],
   "source": [
    "X = data[:, 1:end - 1];\n",
    "y = data[:, end];"
   ]
  },
  {
   "cell_type": "code",
   "execution_count": 4,
   "id": "996009b0",
   "metadata": {},
   "outputs": [
    {
     "data": {
      "text/plain": [
       "(100000, 10)"
      ]
     },
     "execution_count": 4,
     "metadata": {},
     "output_type": "execute_result"
    }
   ],
   "source": [
    "n, p = size(X)"
   ]
  },
  {
   "cell_type": "code",
   "execution_count": 5,
   "id": "d2523183",
   "metadata": {},
   "outputs": [
    {
     "data": {
      "text/plain": [
       "σ (generic function with 1 method)"
      ]
     },
     "execution_count": 5,
     "metadata": {},
     "output_type": "execute_result"
    }
   ],
   "source": [
    "function σ(x)\n",
    "    return one(x) / (one(x) + exp(-x))\n",
    "end"
   ]
  },
  {
   "cell_type": "code",
   "execution_count": 6,
   "id": "a1d8d014",
   "metadata": {},
   "outputs": [
    {
     "data": {
      "text/plain": [
       "grad (generic function with 1 method)"
      ]
     },
     "execution_count": 6,
     "metadata": {},
     "output_type": "execute_result"
    }
   ],
   "source": [
    "# return expected gradient with respect to current β.\n",
    "function grad(X, y, β)\n",
    "    n_obs = size(X)[1]\n",
    "    prob = σ.(X * β)\n",
    "    g  = X' * (prob .- y)\n",
    "    return g\n",
    "end"
   ]
  },
  {
   "cell_type": "code",
   "execution_count": 7,
   "id": "be8420ef",
   "metadata": {},
   "outputs": [
    {
     "data": {
      "text/plain": [
       "batch_shuffle (generic function with 1 method)"
      ]
     },
     "execution_count": 7,
     "metadata": {},
     "output_type": "execute_result"
    }
   ],
   "source": [
    "function batch_shuffle(X, y, mb_size)\n",
    "    n = size(X)[1]\n",
    "    perm = randperm(n)[1:mb_size]\n",
    "    X_mini = @view X[perm, :]\n",
    "    y_mini = @view y[perm, :]\n",
    "    return X_mini, y_mini\n",
    "end"
   ]
  },
  {
   "cell_type": "code",
   "execution_count": 8,
   "id": "f8b24e03",
   "metadata": {
    "scrolled": true
   },
   "outputs": [
    {
     "data": {
      "text/plain": [
       "step (generic function with 1 method)"
      ]
     },
     "execution_count": 8,
     "metadata": {},
     "output_type": "execute_result"
    }
   ],
   "source": [
    "function step(βₖ, αₖ, ∇βₖ)\n",
    "    βₖ₊₁ = @. βₖ - αₖ * ∇βₖ\n",
    "    return βₖ₊₁\n",
    "end"
   ]
  },
  {
   "cell_type": "code",
   "execution_count": 9,
   "id": "9f0752f3",
   "metadata": {},
   "outputs": [
    {
     "data": {
      "text/plain": [
       "loss (generic function with 1 method)"
      ]
     },
     "execution_count": 9,
     "metadata": {},
     "output_type": "execute_result"
    }
   ],
   "source": [
    "function loss(X, y, β)\n",
    "    ŷ = σ.(X * β)\n",
    "    loss_vector = @. y * log(ŷ) + (1 - y) * log(1 - ŷ)\n",
    "    l = -sum(loss_vector)\n",
    "    \n",
    "    return l\n",
    "end"
   ]
  },
  {
   "cell_type": "markdown",
   "id": "d9a7ffba",
   "metadata": {},
   "source": [
    "# SGD "
   ]
  },
  {
   "cell_type": "code",
   "execution_count": 36,
   "id": "529ad419",
   "metadata": {},
   "outputs": [
    {
     "data": {
      "text/plain": [
       "sgd (generic function with 2 methods)"
      ]
     },
     "execution_count": 36,
     "metadata": {},
     "output_type": "execute_result"
    }
   ],
   "source": [
    "function sgd(X, y, β₀, α, eps, mb, max_iter = 10000)\n",
    "    βᵢ = β₀\n",
    "    ∇βᵢ = ones(p)\n",
    "    niter = 0\n",
    "    norm_∇βᵢ = 100\n",
    "    \n",
    "    while(norm_∇βᵢ > eps && niter < max_iter)\n",
    "        \n",
    "        X_mini, y_mini = batch_shuffle(X, y, mb)\n",
    "        ∇βᵢ = grad(X_mini, y_mini, βᵢ)\n",
    "        βᵢ₊₁ = step(βᵢ, α, ∇βᵢ)\n",
    "        βᵢ = βᵢ₊₁\n",
    "        \n",
    "        #iteration wise metrics\n",
    "        niter+=1\n",
    "        norm_∇βᵢ = norm(∇βᵢ / mb)\n",
    "        \n",
    "        if (niter % 10) == 0\n",
    "            @show niter, norm_∇βᵢ, loss(X_mini, y_mini, βᵢ)\n",
    "        end\n",
    "    end\n",
    "    \n",
    "    return βᵢ, niter\n",
    "end      "
   ]
  },
  {
   "cell_type": "code",
   "execution_count": 55,
   "id": "399b5c17",
   "metadata": {},
   "outputs": [
    {
     "name": "stdout",
     "output_type": "stream",
     "text": [
      "(niter, norm_∇βᵢ, loss(X_mini, y_mini, βᵢ)) = (10, 0.030867645975344853, 1055.4561435987707)\n",
      "(niter, norm_∇βᵢ, loss(X_mini, y_mini, βᵢ)) = (20, 0.019722285071791735, 1019.5602041328088)\n"
     ]
    },
    {
     "data": {
      "text/plain": [
       "([0.5833312226405079; 1.3927746532067395; … ; 1.0908295898693345; 0.1938477536407033;;], 20)"
      ]
     },
     "execution_count": 55,
     "metadata": {},
     "output_type": "execute_result"
    }
   ],
   "source": [
    "mb_sgd = 2500\n",
    "βₛ, Nₛ = sgd(X, y, zeros(p), 1e-3, 0.02, mb_sgd)"
   ]
  },
  {
   "cell_type": "code",
   "execution_count": 56,
   "id": "1f8ed82c",
   "metadata": {},
   "outputs": [
    {
     "data": {
      "text/plain": [
       "50000"
      ]
     },
     "execution_count": 56,
     "metadata": {},
     "output_type": "execute_result"
    }
   ],
   "source": [
    "#number of gradient calculations\n",
    "Nₛ * mb_sgd"
   ]
  },
  {
   "cell_type": "code",
   "execution_count": 57,
   "id": "01e050e3",
   "metadata": {},
   "outputs": [
    {
     "data": {
      "text/plain": [
       "0.4215091333652087"
      ]
     },
     "execution_count": 57,
     "metadata": {},
     "output_type": "execute_result"
    }
   ],
   "source": [
    "# check to make sure our algorithm is working.\n",
    "grad(X, y, βₛ) / n\n",
    "loss(X, y, βₛ) / n"
   ]
  },
  {
   "cell_type": "code",
   "execution_count": 58,
   "id": "b1c62565",
   "metadata": {},
   "outputs": [
    {
     "data": {
      "text/plain": [
       "0.4407288286841396"
      ]
     },
     "execution_count": 58,
     "metadata": {},
     "output_type": "execute_result"
    }
   ],
   "source": [
    "mb_size = 1000\n",
    "X_mini, y_mini = batch_shuffle(X, y, mb_size)\n",
    "grad(X_mini, y_mini, βₛ) / mb_size\n",
    "loss(X_mini, y_mini, βₛ) / mb_size"
   ]
  },
  {
   "cell_type": "markdown",
   "id": "5128377d",
   "metadata": {},
   "source": [
    "# Retrospective Approximation"
   ]
  },
  {
   "cell_type": "code",
   "execution_count": 59,
   "id": "bf7ed650",
   "metadata": {},
   "outputs": [
    {
     "data": {
      "text/plain": [
       "mb_update (generic function with 1 method)"
      ]
     },
     "execution_count": 59,
     "metadata": {},
     "output_type": "execute_result"
    }
   ],
   "source": [
    "function mb_update(mbₖ, Cₖ)\n",
    "    return mbₖ * Cₖ\n",
    "end"
   ]
  },
  {
   "cell_type": "code",
   "execution_count": 60,
   "id": "38ae0046",
   "metadata": {},
   "outputs": [],
   "source": [
    "eps = [1, 0.2, 0.16, 0.11, 0.09, 0.05, 0.02]\n",
    "mbs = [2, 20, 50, 100, 200, 500, 1000];"
   ]
  },
  {
   "cell_type": "code",
   "execution_count": 61,
   "id": "d6d227fd",
   "metadata": {},
   "outputs": [
    {
     "data": {
      "text/plain": [
       "ra (generic function with 1 method)"
      ]
     },
     "execution_count": 61,
     "metadata": {},
     "output_type": "execute_result"
    }
   ],
   "source": [
    "function ra(mbs, eps, β₀)\n",
    "    \n",
    "    @assert(size(mbs) == size(eps))\n",
    "    nₒ = size(mbs)[1]\n",
    "    niter_total = 0\n",
    "    ngrad_total = 0\n",
    "    βᵢ = β₀\n",
    "    @show nₒ\n",
    "    \n",
    "    # outer iterations\n",
    "    for i in 1:nₒ\n",
    "        X_inner, y_inner = batch_shuffle(X, y, mbs[i])\n",
    "        @show i eps[i] mbs[i]\n",
    "        βᵢ₊₁, niter_inner = sgd(X_inner, y_inner, βᵢ, 1e-3, eps[i], mbs[i])\n",
    "        @show niter_inner\n",
    "        \n",
    "        niter_total += niter_inner\n",
    "        ngrad_total += niter_inner * mbs[i]\n",
    "        βᵢ = βᵢ₊₁\n",
    "    end\n",
    "    return βᵢ, niter_total, ngrad_total\n",
    "end"
   ]
  },
  {
   "cell_type": "code",
   "execution_count": 65,
   "id": "1d2d92c6",
   "metadata": {},
   "outputs": [
    {
     "name": "stdout",
     "output_type": "stream",
     "text": [
      "nₒ = 7\n",
      "i = 1\n",
      "eps[i] = 1.0\n",
      "mbs[i] = 2\n",
      "(niter, norm_∇βᵢ, loss(X_mini, y_mini, βᵢ)) = (10, 1.1542024020829027, 1.3316210393387382)\n",
      "(niter, norm_∇βᵢ, loss(X_mini, y_mini, βᵢ)) = (20, 1.1202370005048166, 1.2801272333722535)\n",
      "(niter, norm_∇βᵢ, loss(X_mini, y_mini, βᵢ)) = (30, 1.0875357944753503, 1.2316063997144542)\n",
      "(niter, norm_∇βᵢ, loss(X_mini, y_mini, βᵢ)) = (40, 1.0560890986037725, 1.1858624541239222)\n",
      "(niter, norm_∇βᵢ, loss(X_mini, y_mini, βᵢ)) = (50, 1.0258769305761173, 1.1427102906145923)\n",
      "niter_inner = 59\n",
      "i = 2\n",
      "eps[i] = 0.2\n",
      "mbs[i] = 20\n",
      "(niter, norm_∇βᵢ, loss(X_mini, y_mini, βᵢ)) = (10, 0.4751788087272859, 12.535911668236547)\n",
      "(niter, norm_∇βᵢ, loss(X_mini, y_mini, βᵢ)) = (20, 0.4307801717633318, 11.728502147915194)\n",
      "(niter, norm_∇βᵢ, loss(X_mini, y_mini, βᵢ)) = (30, 0.3928346112477327, 11.060637333738086)\n",
      "(niter, norm_∇βᵢ, loss(X_mini, y_mini, βᵢ)) = (40, 0.3605394153764849, 10.50126128539027)\n",
      "(niter, norm_∇βᵢ, loss(X_mini, y_mini, βᵢ)) = (50, 0.33304784348837113, 10.026631974364667)\n",
      "(niter, norm_∇βᵢ, loss(X_mini, y_mini, βᵢ)) = (60, 0.3095749396523711, 9.618754769298139)\n",
      "(niter, norm_∇βᵢ, loss(X_mini, y_mini, βᵢ)) = (70, 0.28943817189392645, 9.263997489377928)\n",
      "(niter, norm_∇βᵢ, loss(X_mini, y_mini, βᵢ)) = (80, 0.2720640348038679, 8.951986142242056)\n",
      "(niter, norm_∇βᵢ, loss(X_mini, y_mini, βᵢ)) = (90, 0.2569793849273498, 8.67476735589699)\n",
      "(niter, norm_∇βᵢ, loss(X_mini, y_mini, βᵢ)) = (100, 0.24379744257335978, 8.42618825234314)\n",
      "(niter, norm_∇βᵢ, loss(X_mini, y_mini, βᵢ)) = (110, 0.23220318845061552, 8.2014419284176)\n",
      "(niter, norm_∇βᵢ, loss(X_mini, y_mini, βᵢ)) = (120, 0.22194012669144308, 7.996734985815148)\n",
      "(niter, norm_∇βᵢ, loss(X_mini, y_mini, βᵢ)) = (130, 0.21279903687647683, 7.809043661223113)\n",
      "(niter, norm_∇βᵢ, loss(X_mini, y_mini, βᵢ)) = (140, 0.20460873112065933, 7.635933940212091)\n",
      "niter_inner = 147\n",
      "i = 3\n",
      "eps[i] = 0.16\n",
      "mbs[i] = 50\n",
      "(niter, norm_∇βᵢ, loss(X_mini, y_mini, βᵢ)) = (10, 0.2294532269391428, 28.04617056728803)\n",
      "(niter, norm_∇βᵢ, loss(X_mini, y_mini, βᵢ)) = (20, 0.2039229865773951, 26.896226957815276)\n",
      "(niter, norm_∇βᵢ, loss(X_mini, y_mini, βᵢ)) = (30, 0.1831484654086252, 25.97725153415504)\n",
      "(niter, norm_∇βᵢ, loss(X_mini, y_mini, βᵢ)) = (40, 0.16613969162082554, 25.227565041105507)\n",
      "niter_inner = 45\n",
      "i = 4\n",
      "eps[i] = 0.11\n",
      "mbs[i] = 100\n",
      "(niter, norm_∇βᵢ, loss(X_mini, y_mini, βᵢ)) = (10, 0.1362584876729942, 44.44626443059424)\n",
      "(niter, norm_∇βᵢ, loss(X_mini, y_mini, βᵢ)) = (20, 0.11139170798214337, 42.97065502848767)\n",
      "niter_inner = 21\n",
      "i = 5\n",
      "eps[i] = 0.09\n",
      "mbs[i] = 200\n",
      "(niter, norm_∇βᵢ, loss(X_mini, y_mini, βᵢ)) = (10, 0.1349106791437008, 87.18976224816069)\n",
      "(niter, norm_∇βᵢ, loss(X_mini, y_mini, βᵢ)) = (20, 0.09958204883414434, 82.02923166745661)\n",
      "niter_inner = 24\n",
      "i = 6\n",
      "eps[i] = 0.05\n",
      "mbs[i] = 500\n",
      "niter_inner = 9\n",
      "i = 7\n",
      "eps[i] = 0.02\n",
      "mbs[i] = 1000\n",
      "(niter, norm_∇βᵢ, loss(X_mini, y_mini, βᵢ)) = (10, 0.022218787556927397, 417.6625109000685)\n",
      "niter_inner = 12\n"
     ]
    },
    {
     "data": {
      "text/plain": [
       "([0.45860256165698593; 1.284638509845886; … ; 1.0678178671220218; 0.13161502098696476;;], 317, 28708)"
      ]
     },
     "execution_count": 65,
     "metadata": {},
     "output_type": "execute_result"
    }
   ],
   "source": [
    "βᵣ, Nᵣ, ngradᵣ =  ra(mbs, eps, zeros(p))"
   ]
  },
  {
   "cell_type": "code",
   "execution_count": 63,
   "id": "bdbbcd33",
   "metadata": {},
   "outputs": [
    {
     "data": {
      "text/plain": [
       "0.03250632237619804"
      ]
     },
     "execution_count": 63,
     "metadata": {},
     "output_type": "execute_result"
    }
   ],
   "source": [
    "norm(grad(X, y, βᵣ) / n)"
   ]
  },
  {
   "cell_type": "code",
   "execution_count": 64,
   "id": "311b5a00",
   "metadata": {},
   "outputs": [
    {
     "ename": "LoadError",
     "evalue": "UndefVarError: β not defined",
     "output_type": "error",
     "traceback": [
      "UndefVarError: β not defined",
      "",
      "Stacktrace:",
      " [1] top-level scope",
      "   @ In[64]:1",
      " [2] eval",
      "   @ ./boot.jl:373 [inlined]",
      " [3] include_string(mapexpr::typeof(REPL.softscope), mod::Module, code::String, filename::String)",
      "   @ Base ./loading.jl:1196"
     ]
    }
   ],
   "source": [
    "prob = σ.(X * β) \n",
    "yᵢ = Bern(probᵢ)"
   ]
  },
  {
   "cell_type": "markdown",
   "id": "613fa029",
   "metadata": {},
   "source": [
    "# SGD with stepsize decay"
   ]
  },
  {
   "cell_type": "code",
   "execution_count": 308,
   "id": "c95fdabe",
   "metadata": {},
   "outputs": [
    {
     "data": {
      "text/plain": [
       "sgd_decay (generic function with 3 methods)"
      ]
     },
     "execution_count": 308,
     "metadata": {},
     "output_type": "execute_result"
    }
   ],
   "source": [
    "function sgd_decay(X, y, β₀, α, ϵ, mb; lag = 50, max_iter = 1000)\n",
    "    βᵢ = β₀\n",
    "    ∇βᵢ = ones(p)\n",
    "    niter = 0\n",
    "    norm_∇βᵢ = 100\n",
    "    min_norm_∇βᵢ = 1000\n",
    "    no_imp_iter = 0\n",
    "    \n",
    "    while(norm_∇βᵢ > ϵ && niter < max_iter)\n",
    "        \n",
    "        #take steps.\n",
    "        X_mini, y_mini = batch_shuffle(X, y, mb)\n",
    "        ∇βᵢ = grad(X_mini, y_mini, βᵢ)\n",
    "        βᵢ₊₁ = step(βᵢ, α, ∇βᵢ)\n",
    "        βᵢ = βᵢ₊₁\n",
    "        \n",
    "        #iteration wise metrics\n",
    "        niter+=1\n",
    "        norm_∇βᵢ = norm(∇βᵢ / mb)\n",
    "        l = loss(X_mini, y_mini, βᵢ) / mb\n",
    "        \n",
    "        # count iterations for which there has been no improvement in loss.\n",
    "        if norm_∇βᵢ <= min_norm_∇βᵢ\n",
    "            no_imp_iter = 0\n",
    "            min_norm_∇βᵢ = norm_∇βᵢ\n",
    "        else\n",
    "            no_imp_iter+=1\n",
    "        end\n",
    "        \n",
    "        #display metrics\n",
    "        if (niter % 500) == 0\n",
    "            @show norm_∇βᵢ, α, min_norm_∇βᵢ\n",
    "        end\n",
    "        \n",
    "        # if no improvement in norm for \"lag\" iterations, reduce learning rate.\n",
    "        if no_imp_iter >= lag\n",
    "            α = α * 0.2\n",
    "            @show norm_∇βᵢ, α, min_norm_∇βᵢ\n",
    "            no_imp_iter = 0\n",
    "        end\n",
    "    end\n",
    "    \n",
    "    return βᵢ, niter, α\n",
    "end"
   ]
  },
  {
   "cell_type": "code",
   "execution_count": 310,
   "id": "c51e45cc",
   "metadata": {},
   "outputs": [
    {
     "name": "stdout",
     "output_type": "stream",
     "text": [
      "(norm_∇βᵢ, α, min_norm_∇βᵢ) = (0.038812752684404206, 0.0002, 0.016594675830095298)\n",
      "(norm_∇βᵢ, α, min_norm_∇βᵢ) = (0.016592623567614713, 4.0e-5, 0.013492138944955517)\n",
      "(norm_∇βᵢ, α, min_norm_∇βᵢ) = (0.040160345715200774, 8.000000000000001e-6, 0.013492138944955517)\n",
      "(norm_∇βᵢ, α, min_norm_∇βᵢ) = (0.024751539085444776, 1.6000000000000004e-6, 0.012156606619395879)\n",
      "(norm_∇βᵢ, α, min_norm_∇βᵢ) = (0.03693136039578351, 3.200000000000001e-7, 0.012156606619395879)\n",
      "(norm_∇βᵢ, α, min_norm_∇βᵢ) = (0.03515042679099938, 3.200000000000001e-7, 0.011468708848815548)\n",
      "(norm_∇βᵢ, α, min_norm_∇βᵢ) = (0.03766135892320959, 6.400000000000003e-8, 0.011468708848815548)\n",
      "(norm_∇βᵢ, α, min_norm_∇βᵢ) = (0.03424072340098075, 1.2800000000000007e-8, 0.011468708848815548)\n",
      "(norm_∇βᵢ, α, min_norm_∇βᵢ) = (0.021590494146212256, 2.5600000000000015e-9, 0.011468708848815548)\n",
      "(norm_∇βᵢ, α, min_norm_∇βᵢ) = (0.038182438913260675, 5.120000000000003e-10, 0.011468708848815548)\n",
      "(norm_∇βᵢ, α, min_norm_∇βᵢ) = (0.03369033169014424, 1.0240000000000007e-10, 0.011468708848815548)\n",
      "(norm_∇βᵢ, α, min_norm_∇βᵢ) = (0.02515228951480838, 2.0480000000000016e-11, 0.011468708848815548)\n",
      "(norm_∇βᵢ, α, min_norm_∇βᵢ) = (0.03292683259218826, 4.0960000000000035e-12, 0.011468708848815548)\n",
      "(norm_∇βᵢ, α, min_norm_∇βᵢ) = (0.025403829381742793, 8.192000000000008e-13, 0.011468708848815548)\n",
      "(norm_∇βᵢ, α, min_norm_∇βᵢ) = (0.031218094523988327, 1.6384000000000016e-13, 0.011468708848815548)\n",
      "(norm_∇βᵢ, α, min_norm_∇βᵢ) = (0.0343335050686584, 3.2768000000000034e-14, 0.011468708848815548)\n",
      "(norm_∇βᵢ, α, min_norm_∇βᵢ) = (0.031100382895839166, 3.2768000000000034e-14, 0.011468708848815548)\n",
      "(norm_∇βᵢ, α, min_norm_∇βᵢ) = (0.026820401268519423, 6.553600000000007e-15, 0.011468708848815548)\n",
      "(norm_∇βᵢ, α, min_norm_∇βᵢ) = (0.02467237093271971, 1.3107200000000015e-15, 0.011468708848815548)\n",
      "(norm_∇βᵢ, α, min_norm_∇βᵢ) = (0.030235707908180875, 2.621440000000003e-16, 0.011468708848815548)\n",
      "(norm_∇βᵢ, α, min_norm_∇βᵢ) = (0.0374425862719628, 5.2428800000000064e-17, 0.011468708848815548)\n",
      "(norm_∇βᵢ, α, min_norm_∇βᵢ) = (0.03476318854930823, 1.0485760000000013e-17, 0.011468708848815548)\n",
      "(norm_∇βᵢ, α, min_norm_∇βᵢ) = (0.035433376816709224, 2.097152000000003e-18, 0.011468708848815548)\n",
      "(norm_∇βᵢ, α, min_norm_∇βᵢ) = (0.04239429826615836, 4.194304000000006e-19, 0.011468708848815548)\n",
      "(norm_∇βᵢ, α, min_norm_∇βᵢ) = (0.025269040164631197, 8.388608000000012e-20, 0.011468708848815548)\n",
      "(norm_∇βᵢ, α, min_norm_∇βᵢ) = (0.019170656532097458, 1.6777216000000025e-20, 0.011468708848815548)\n",
      "(norm_∇βᵢ, α, min_norm_∇βᵢ) = (0.025655953246568948, 3.355443200000005e-21, 0.011468708848815548)\n",
      "(norm_∇βᵢ, α, min_norm_∇βᵢ) = (0.026973232230502273, 3.355443200000005e-21, 0.011468708848815548)\n",
      "(norm_∇βᵢ, α, min_norm_∇βᵢ) = (0.016501667332182977, 6.710886400000011e-22, 0.011468708848815548)\n",
      "(norm_∇βᵢ, α, min_norm_∇βᵢ) = (0.035833935614023614, 1.3421772800000022e-22, 0.011468708848815548)\n",
      "(norm_∇βᵢ, α, min_norm_∇βᵢ) = (0.03375157920820545, 2.6843545600000043e-23, 0.011468708848815548)\n"
     ]
    },
    {
     "data": {
      "text/plain": [
       "([0.5810305491296903; 1.4207680030632701; … ; 1.109164227389375; 0.1712325585170614;;], 1646, 2.6843545600000043e-23)"
      ]
     },
     "execution_count": 310,
     "metadata": {},
     "output_type": "execute_result"
    }
   ],
   "source": [
    "βₑ, Nₑ, αₑ =  sgd_decay(X, y, zeros(p), 1e-3, 0.01, 1500, lag = 50, max_iter = 10000)"
   ]
  },
  {
   "cell_type": "code",
   "execution_count": 311,
   "id": "814d74b5",
   "metadata": {},
   "outputs": [
    {
     "data": {
      "text/plain": [
       "10×1 Matrix{Float64}:\n",
       "  0.5810305491296903\n",
       "  1.4207680030632701\n",
       "  0.4295348045020326\n",
       " -0.15885682282788663\n",
       "  1.0069205917132373\n",
       " -0.32529142699927577\n",
       " -0.6220489067412067\n",
       "  0.40485511669316526\n",
       "  1.109164227389375\n",
       "  0.1712325585170614"
      ]
     },
     "execution_count": 311,
     "metadata": {},
     "output_type": "execute_result"
    }
   ],
   "source": [
    "βₑ"
   ]
  },
  {
   "cell_type": "code",
   "execution_count": 312,
   "id": "74764292",
   "metadata": {},
   "outputs": [
    {
     "data": {
      "text/plain": [
       "0.0027623269936933293"
      ]
     },
     "execution_count": 312,
     "metadata": {},
     "output_type": "execute_result"
    }
   ],
   "source": [
    "norm(grad(X, y, βₑ) / n)"
   ]
  },
  {
   "cell_type": "markdown",
   "id": "040515aa",
   "metadata": {},
   "source": [
    "# RA with decay SGD"
   ]
  },
  {
   "cell_type": "code",
   "execution_count": 313,
   "id": "9f6a01f0",
   "metadata": {},
   "outputs": [
    {
     "data": {
      "text/plain": [
       "ra_decay (generic function with 1 method)"
      ]
     },
     "execution_count": 313,
     "metadata": {},
     "output_type": "execute_result"
    }
   ],
   "source": [
    "function ra_decay(mbs, eps, β₀)\n",
    "    \n",
    "    @assert(size(mbs) == size(eps))\n",
    "    nₒ = size(mbs)[1]\n",
    "    niter_total = 0\n",
    "    ngrad_total = 0\n",
    "    βᵢ = β₀\n",
    "    @show nₒ\n",
    "    \n",
    "    # outer iterations\n",
    "    for i in 1:nₒ\n",
    "        X_inner, y_inner = batch_shuffle(X, y, mbs[i])\n",
    "        @show i eps[i] mbs[i]\n",
    "        βᵢ₊₁, niter_inner = sgd_decay(X_inner, y_inner, βᵢ, 1e-3, eps[i], mbs[i])\n",
    "        @show niter_inner\n",
    "        \n",
    "        niter_total += niter_inner\n",
    "        ngrad_total += niter_inner * mbs[i]\n",
    "        βᵢ = βᵢ₊₁\n",
    "    end\n",
    "    return βᵢ, niter_total, ngrad_total\n",
    "end"
   ]
  },
  {
   "cell_type": "code",
   "execution_count": 314,
   "id": "efbd4d80",
   "metadata": {},
   "outputs": [
    {
     "name": "stdout",
     "output_type": "stream",
     "text": [
      "nₒ = 7\n",
      "i = 1\n",
      "eps[i] = 1.0\n",
      "mbs[i] = 2\n",
      "niter_inner = 1\n",
      "i = 2\n",
      "eps[i] = 0.2\n",
      "mbs[i] = 20\n",
      "niter_inner = 169\n",
      "i = 3\n",
      "eps[i] = 0.16\n",
      "mbs[i] = 50\n",
      "niter_inner = 58\n",
      "i = 4\n",
      "eps[i] = 0.11\n",
      "mbs[i] = 100\n",
      "niter_inner = 20\n",
      "i = 5\n",
      "eps[i] = 0.09\n",
      "mbs[i] = 200\n",
      "niter_inner = 10\n",
      "i = 6\n",
      "eps[i] = 0.05\n",
      "mbs[i] = 500\n",
      "niter_inner = 12\n",
      "i = 7\n",
      "eps[i] = 0.02\n",
      "mbs[i] = 1000\n",
      "niter_inner = 15\n"
     ]
    },
    {
     "data": {
      "text/plain": [
       "([0.4843171301404079; 1.3706241374411625; … ; 0.9144653622641016; 0.19949178583093152;;], 285, 31282)"
      ]
     },
     "execution_count": 314,
     "metadata": {},
     "output_type": "execute_result"
    }
   ],
   "source": [
    "ra_decay(mbs, eps, zeros(p))"
   ]
  },
  {
   "cell_type": "code",
   "execution_count": null,
   "id": "1ad76420",
   "metadata": {},
   "outputs": [],
   "source": []
  }
 ],
 "metadata": {
  "kernelspec": {
   "display_name": "Julia 1.7.3",
   "language": "julia",
   "name": "julia-1.7"
  },
  "language_info": {
   "file_extension": ".jl",
   "mimetype": "application/julia",
   "name": "julia",
   "version": "1.7.3"
  }
 },
 "nbformat": 4,
 "nbformat_minor": 5
}
