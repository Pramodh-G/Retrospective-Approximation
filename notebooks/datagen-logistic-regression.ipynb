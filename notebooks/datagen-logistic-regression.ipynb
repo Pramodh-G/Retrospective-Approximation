{
 "cells": [
  {
   "cell_type": "code",
   "execution_count": 13,
   "id": "917b427e",
   "metadata": {},
   "outputs": [],
   "source": [
    "using Distributions, CSV, DataFrames, LinearAlgebra, DelimitedFiles"
   ]
  },
  {
   "cell_type": "code",
   "execution_count": 2,
   "id": "b9653a14",
   "metadata": {},
   "outputs": [
    {
     "data": {
      "text/plain": [
       "100000"
      ]
     },
     "execution_count": 2,
     "metadata": {},
     "output_type": "execute_result"
    }
   ],
   "source": [
    "p = 10\n",
    "n = Int(1e5)"
   ]
  },
  {
   "cell_type": "code",
   "execution_count": 3,
   "id": "d3121c47",
   "metadata": {},
   "outputs": [],
   "source": [
    "# random X data.\n",
    "X = randn(n, p - 1)\n",
    "X = [ones(n) ;; X];"
   ]
  },
  {
   "cell_type": "code",
   "execution_count": 4,
   "id": "7304a942",
   "metadata": {},
   "outputs": [
    {
     "data": {
      "text/plain": [
       "10-element Vector{Float64}:\n",
       "  0.574097292758785\n",
       "  1.416091936759158\n",
       "  0.4076501026794924\n",
       " -0.17357858841174068\n",
       "  0.9875806491774863\n",
       " -0.32980765466841416\n",
       " -0.6238375815668155\n",
       "  0.4040495150323981\n",
       "  1.1129755593272874\n",
       "  0.18462784477847924"
      ]
     },
     "execution_count": 4,
     "metadata": {},
     "output_type": "execute_result"
    }
   ],
   "source": [
    "# generate true value of beta for LR.\n",
    "β = randn(p)"
   ]
  },
  {
   "cell_type": "code",
   "execution_count": 5,
   "id": "14d062ca",
   "metadata": {},
   "outputs": [
    {
     "data": {
      "text/plain": [
       "σ (generic function with 1 method)"
      ]
     },
     "execution_count": 5,
     "metadata": {},
     "output_type": "execute_result"
    }
   ],
   "source": [
    "function σ(x)\n",
    "    return one(x) / (one(x) + exp(-x))\n",
    "end"
   ]
  },
  {
   "cell_type": "code",
   "execution_count": 6,
   "id": "b88c0c0e",
   "metadata": {},
   "outputs": [
    {
     "data": {
      "text/plain": [
       "100000-element Vector{Float64}:\n",
       " 0.882347142816194\n",
       " 0.8839365048035687\n",
       " 0.5279406000111281\n",
       " 0.45745558668335445\n",
       " 0.900924532659282\n",
       " 0.9578912698468117\n",
       " 0.8056746541157991\n",
       " 0.8705754794842931\n",
       " 0.6344599200289935\n",
       " 0.7765508132171002\n",
       " 0.06931668816868938\n",
       " 0.9485876773916263\n",
       " 0.872660652592163\n",
       " ⋮\n",
       " 0.8387191894246812\n",
       " 0.336585954245752\n",
       " 0.8626751450392011\n",
       " 0.8418978936446373\n",
       " 0.10808687613619626\n",
       " 0.29718741577945684\n",
       " 0.7801000012665147\n",
       " 0.9976397989821785\n",
       " 0.5623575216772454\n",
       " 0.3929746519750486\n",
       " 0.23722690441393918\n",
       " 0.8978128716417049"
      ]
     },
     "execution_count": 6,
     "metadata": {},
     "output_type": "execute_result"
    }
   ],
   "source": [
    "p = σ.(X * β)"
   ]
  },
  {
   "cell_type": "code",
   "execution_count": 7,
   "id": "96e3372b",
   "metadata": {},
   "outputs": [
    {
     "data": {
      "text/plain": [
       "100000-element BitVector:\n",
       " 1\n",
       " 1\n",
       " 0\n",
       " 1\n",
       " 1\n",
       " 1\n",
       " 1\n",
       " 1\n",
       " 1\n",
       " 1\n",
       " 0\n",
       " 1\n",
       " 1\n",
       " ⋮\n",
       " 1\n",
       " 0\n",
       " 1\n",
       " 1\n",
       " 1\n",
       " 1\n",
       " 1\n",
       " 1\n",
       " 1\n",
       " 0\n",
       " 0\n",
       " 1"
      ]
     },
     "execution_count": 7,
     "metadata": {},
     "output_type": "execute_result"
    }
   ],
   "source": [
    "# generate labels\n",
    "y = rand(n) .< p"
   ]
  },
  {
   "cell_type": "code",
   "execution_count": 8,
   "id": "1eff81b5",
   "metadata": {},
   "outputs": [
    {
     "data": {
      "text/plain": [
       "100000×11 Matrix{Float64}:\n",
       " 1.0   0.574862    -1.0806     -0.418093   …   0.481523  -0.226299   1.0\n",
       " 1.0   0.776384     0.0550471  -0.0606124      0.698078   0.066935   1.0\n",
       " 1.0   1.09172     -0.631223    0.641016      -0.384765   0.600121   0.0\n",
       " 1.0  -0.672052     2.43145     1.47447        0.461837  -0.576641   1.0\n",
       " 1.0   0.860836    -0.164398    1.53722        0.213606  -0.035842   1.0\n",
       " 1.0   0.716834    -0.276879   -0.401135   …   1.3247     0.527772   1.0\n",
       " 1.0   0.467617     1.64826     0.836335      -0.109489  -0.151928   1.0\n",
       " 1.0  -0.727069     0.532335   -0.811135       1.09976    0.574664   1.0\n",
       " 1.0   0.457867     1.29696    -0.63014        0.141681  -0.703412   1.0\n",
       " 1.0   0.0418891   -1.33147     0.189795       1.54436   -0.821029   1.0\n",
       " 1.0  -1.78369     -0.914654    0.287673   …   0.93703   -0.0974948  0.0\n",
       " 1.0   0.296276     1.66832    -1.01223       -1.46358    1.44381    1.0\n",
       " 1.0   1.98275     -0.373838    0.447554       0.862574  -0.473345   1.0\n",
       " ⋮                                         ⋱                         ⋮\n",
       " 1.0   0.957398    -0.741312   -0.269851      -0.155324   0.580054   1.0\n",
       " 1.0  -1.16059      0.959386    0.0609046      0.110598  -0.988657   0.0\n",
       " 1.0  -0.636097     0.57299    -0.359901   …   0.505945   0.521309   1.0\n",
       " 1.0  -0.275233    -0.751156    1.51436        2.17285   -0.625653   1.0\n",
       " 1.0  -0.00179469  -2.43592    -0.952382      -0.424649   0.296528   1.0\n",
       " 1.0  -0.694889    -0.205523   -0.739767      -0.730775  -0.336938   1.0\n",
       " 1.0   0.601547     0.716559   -1.06951       -0.587378   0.402915   1.0\n",
       " 1.0   1.57843     -0.387029   -1.69369    …   0.355121   0.338003   1.0\n",
       " 1.0  -0.0159962   -0.850525    0.705446      -0.278335  -0.766551   1.0\n",
       " 1.0  -0.559217     1.06391     0.457171      -1.65197    0.341722   0.0\n",
       " 1.0  -1.18698      0.92881     0.183417      -0.299145   2.5783     0.0\n",
       " 1.0   1.09387      0.283804   -0.623849       0.72689   -0.227555   1.0"
      ]
     },
     "execution_count": 8,
     "metadata": {},
     "output_type": "execute_result"
    }
   ],
   "source": [
    "data = [X ;; y]"
   ]
  },
  {
   "cell_type": "code",
   "execution_count": 9,
   "id": "72eb858a",
   "metadata": {},
   "outputs": [
    {
     "data": {
      "text/plain": [
       "\"../data/lr.csv\""
      ]
     },
     "execution_count": 9,
     "metadata": {},
     "output_type": "execute_result"
    }
   ],
   "source": [
    "CSV.write(\"../data/lr.csv\", DataFrame(data, :auto))"
   ]
  },
  {
   "cell_type": "code",
   "execution_count": 14,
   "id": "c342520c",
   "metadata": {},
   "outputs": [],
   "source": [
    "DelimitedFiles.writedlm(\"../data/beta.txt\", β)"
   ]
  },
  {
   "cell_type": "code",
   "execution_count": null,
   "id": "77ea61e0",
   "metadata": {},
   "outputs": [],
   "source": []
  }
 ],
 "metadata": {
  "kernelspec": {
   "display_name": "Julia 1.7.3",
   "language": "julia",
   "name": "julia-1.7"
  },
  "language_info": {
   "file_extension": ".jl",
   "mimetype": "application/julia",
   "name": "julia",
   "version": "1.7.3"
  }
 },
 "nbformat": 4,
 "nbformat_minor": 5
}
