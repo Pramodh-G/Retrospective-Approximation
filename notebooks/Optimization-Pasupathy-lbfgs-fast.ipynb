{
 "cells": [
  {
   "cell_type": "code",
   "execution_count": 2,
   "id": "2b9a65ee",
   "metadata": {},
   "outputs": [],
   "source": [
    "using LinearAlgebra, Distributions, Random, Optim, LineSearches, Statistics\n",
    "using CSV, DataFrames, DelimitedFiles"
   ]
  },
  {
   "cell_type": "code",
   "execution_count": 3,
   "id": "e5ac38bc",
   "metadata": {},
   "outputs": [],
   "source": [
    "# beta is (1, 2, 3, ... p)ᵀ, given in paper.\n",
    "data = CSV.read(\"../data/lin_reg.csv\", DataFrame);\n",
    "data = Matrix(data);"
   ]
  },
  {
   "cell_type": "code",
   "execution_count": 4,
   "id": "3103acc9",
   "metadata": {},
   "outputs": [],
   "source": [
    "const X = data[:, 1:end - 1];\n",
    "const y = data[:, end];\n",
    "const 𝒩 = Normal();"
   ]
  },
  {
   "cell_type": "code",
   "execution_count": 5,
   "id": "f2d117c4",
   "metadata": {},
   "outputs": [
    {
     "data": {
      "text/plain": [
       "(10000, 1000)"
      ]
     },
     "execution_count": 5,
     "metadata": {},
     "output_type": "execute_result"
    }
   ],
   "source": [
    "n, p = size(X)"
   ]
  },
  {
   "cell_type": "code",
   "execution_count": 6,
   "id": "b9205ee6",
   "metadata": {},
   "outputs": [
    {
     "data": {
      "text/plain": [
       "batch_shuffle (generic function with 1 method)"
      ]
     },
     "execution_count": 6,
     "metadata": {},
     "output_type": "execute_result"
    }
   ],
   "source": [
    "function batch_shuffle(X, y, mb_size)\n",
    "    n = size(X)[1]\n",
    "    perm = randperm(n)[1:mb_size]\n",
    "    X_mini = @view X[perm, :]\n",
    "    y_mini = @view y[perm, :]\n",
    "    return X_mini, y_mini\n",
    "end"
   ]
  },
  {
   "cell_type": "code",
   "execution_count": 7,
   "id": "55db6ba7",
   "metadata": {},
   "outputs": [
    {
     "data": {
      "text/plain": [
       "F (generic function with 1 method)"
      ]
     },
     "execution_count": 7,
     "metadata": {},
     "output_type": "execute_result"
    }
   ],
   "source": [
    "function F(β, X, y)\n",
    "    n = length(y)\n",
    "    res = y .- X * β\n",
    "    G = -X' * res\n",
    "    l = sum(abs2, res) / n\n",
    "    G = G ./ n\n",
    "    \n",
    "    return l, G\n",
    "end"
   ]
  },
  {
   "cell_type": "code",
   "execution_count": 8,
   "id": "de84036a",
   "metadata": {},
   "outputs": [
    {
     "data": {
      "text/plain": [
       "backtracking (generic function with 4 methods)"
      ]
     },
     "execution_count": 8,
     "metadata": {},
     "output_type": "execute_result"
    }
   ],
   "source": [
    "function backtracking(F, d, β, X, y, r = 0.5, c= 1e-4, nmax=100)\n",
    "    \n",
    "    #https://en.wikipedia.org/wiki/Backtracking_line_search\n",
    "    α = 1\n",
    "    fᵢ, gᵢ = F(β, X, y)\n",
    "    βₛ = β + α * d\n",
    "    fₛ, gₛ = F(βₛ, X, y)\n",
    "    n = 1\n",
    "    \n",
    "    while fₛ > fᵢ + c * α * dot(gᵢ, d) && n < nmax\n",
    "        n = n + 1\n",
    "        α = α * r\n",
    "        βₛ = β + α * d\n",
    "        fₛ, gₛ = F(βₛ, X, y)\n",
    "    end\n",
    "    \n",
    "    return α, fₛ, gₛ\n",
    "end"
   ]
  },
  {
   "cell_type": "code",
   "execution_count": 9,
   "id": "684c1059",
   "metadata": {},
   "outputs": [
    {
     "data": {
      "text/plain": [
       "approxInvHess (generic function with 1 method)"
      ]
     },
     "execution_count": 9,
     "metadata": {},
     "output_type": "execute_result"
    }
   ],
   "source": [
    "function approxInvHess(g, S, Y, H₀, global_iter)\n",
    "    \n",
    "    #https://en.wikipedia.org/wiki/Limited-memory_BFGS\n",
    "    n, m = size(S)\n",
    "    ρ = zeros(m)\n",
    "    \n",
    "    upper = global_iter\n",
    "    lower = global_iter - m + 2\n",
    "    @inbounds for index in lower:upper\n",
    "        if index < 2\n",
    "            continue\n",
    "        end\n",
    "        i = mod1(index, m)\n",
    "        ρ[i] = abs(1 / dot(Y[:, i], S[:, i]))\n",
    "    end\n",
    "\n",
    "    q = zeros(n)\n",
    "    α = zeros(m)\n",
    "    d = zeros(n)\n",
    "    β = zero(eltype(ρ))\n",
    "\n",
    "    copyto!(q, g)\n",
    "    \n",
    "    upper = global_iter\n",
    "    lower = global_iter - m + 1\n",
    "    @inbounds for index in upper:-1:lower\n",
    "        if index < 1\n",
    "            continue\n",
    "        end\n",
    "        \n",
    "        i = mod1(index, m)\n",
    "        α[i] = ρ[i] * dot(S[:, i], q)\n",
    "        @. q -= α[i] * Y[:, i]\n",
    "    end\n",
    "\n",
    "    d = H₀ * q\n",
    "    \n",
    "    @inbounds for index in lower:upper\n",
    "        if index < 1\n",
    "            continue\n",
    "        end\n",
    "        i = mod1(index, m)\n",
    "        β = ρ[i] * dot(Y[:, i], d)\n",
    "        @. d = d + S[:, i] * (α[i] - β)\n",
    "    end\n",
    "    \n",
    "    return d\n",
    "end"
   ]
  },
  {
   "cell_type": "code",
   "execution_count": 10,
   "id": "d2391f67",
   "metadata": {},
   "outputs": [
    {
     "data": {
      "text/plain": [
       "loss_vector (generic function with 1 method)"
      ]
     },
     "execution_count": 10,
     "metadata": {},
     "output_type": "execute_result"
    }
   ],
   "source": [
    "function loss_vector(β, X, y)\n",
    "    # returns the loss for each data point in X instead of summing over whole dataset\n",
    "    res = (y .- X * β)\n",
    "    l = res .^ 2\n",
    "    return l\n",
    "end"
   ]
  },
  {
   "cell_type": "code",
   "execution_count": 11,
   "id": "32b7976d",
   "metadata": {},
   "outputs": [
    {
     "data": {
      "text/plain": [
       "stop (generic function with 2 methods)"
      ]
     },
     "execution_count": 11,
     "metadata": {},
     "output_type": "execute_result"
    }
   ],
   "source": [
    "function stop(β, βₛ, X, y, α = 0.95)\n",
    "    # calculates if we get a decrease with CI α.\n",
    "    \n",
    "    z = quantile(𝒩, (1 + α)/2)\n",
    "    n = length(y)\n",
    "    \n",
    "    f = loss_vector(β, X, y)\n",
    "    g = loss_vector(βₛ, X, y)\n",
    "    mean_f = mean(f)\n",
    "    mean_g = mean(g)\n",
    "    \n",
    "    var_diff = (var(f) + var(g) - 2 * cov(f, g)) / n\n",
    "    std_diff = sqrt(var_diff)\n",
    "    \n",
    "    diff = mean_f - mean_g\n",
    "    \n",
    "    suff_dec = diff - z * std_diff\n",
    "    println(\"z: $(z), diff: $(diff), std_diff: $(std_diff), suff_dec: $(suff_dec)\")\n",
    "    if suff_dec > 0\n",
    "        return true\n",
    "    else\n",
    "        return false\n",
    "    end\n",
    "end"
   ]
  },
  {
   "cell_type": "code",
   "execution_count": 12,
   "id": "7677b0f0",
   "metadata": {},
   "outputs": [
    {
     "data": {
      "text/plain": [
       "lbfgs! (generic function with 3 methods)"
      ]
     },
     "execution_count": 12,
     "metadata": {},
     "output_type": "execute_result"
    }
   ],
   "source": [
    "function lbfgs!(F, βᵢ, X, y, Sₘ, Yₘ, global_iter, maxIt, m, τgrad = 1e-8, verbose = 0)\n",
    "    \n",
    "    local_iter = 0\n",
    "    n = length(βᵢ)\n",
    "    d = zeros(n)\n",
    "    fᵢ, gᵢ = F(βᵢ, X, y)\n",
    "    \n",
    "    # use the simplest line search to find step size\n",
    "    α, fₛ, gₛ = backtracking(F, -gᵢ, βᵢ, X, y)\n",
    "    βₛ = βᵢ - α * gᵢ\n",
    "    \n",
    "    # counter\n",
    "    local_iter = 1\n",
    "\n",
    "    while true\n",
    "        \n",
    "        if local_iter > maxIt\n",
    "            break; \n",
    "        end\n",
    "        \n",
    "        gnorm = norm(gᵢ)\n",
    "        \n",
    "        if gnorm < τgrad\n",
    "            \n",
    "            break; \n",
    "        end\n",
    "        \n",
    "        s₀ = βₛ - βᵢ\n",
    "        y₀ = gₛ - gᵢ\n",
    "        \n",
    "        H₀ = dot(s₀, y₀)/ dot(y₀, y₀) # hessian diagonal satisfying secant condition\n",
    "        i = mod1(global_iter, m)\n",
    "        \n",
    "        Sₘ[:, i] .= s₀\n",
    "        Yₘ[:, i] .= y₀\n",
    "        d = -approxInvHess(gₛ, Sₘ, Yₘ, H₀, global_iter)\n",
    "            \n",
    "        # new direction=p, find new step size\n",
    "        α, fs, gs = backtracking(F, d, βₛ, X, y)\n",
    "        \n",
    "        # update for next iteration\n",
    "        βᵢ .= βₛ\n",
    "        gᵢ .= gₛ\n",
    "        βₛ .= βₛ + α .* d\n",
    "        stop(βᵢ, βₛ, X, y)\n",
    "        fₛ = fs\n",
    "        gₛ = gs\n",
    "        local_iter = local_iter + 1\n",
    "        global_iter = global_iter + 1\n",
    "\n",
    "        if verbose == 1\n",
    "            println(\"Iteration: $local_iter -- loss: $fₛ gradnorm: $(norm(gᵢ)) ssize: $α\")\n",
    "        end\n",
    "    end\n",
    "    \n",
    "    local_iter = local_iter - 1\n",
    "    return βₛ, fₛ, local_iter, global_iter\n",
    "end"
   ]
  },
  {
   "cell_type": "code",
   "execution_count": 16,
   "id": "d1befaff",
   "metadata": {},
   "outputs": [
    {
     "data": {
      "text/plain": [
       "1"
      ]
     },
     "execution_count": 16,
     "metadata": {},
     "output_type": "execute_result"
    }
   ],
   "source": [
    "m = 20\n",
    "Sₘ = zeros(p, m)\n",
    "Yₘ = zeros(p, m);\n",
    "global_iter = 1"
   ]
  },
  {
   "cell_type": "code",
   "execution_count": 17,
   "id": "12e5c908",
   "metadata": {},
   "outputs": [
    {
     "name": "stdout",
     "output_type": "stream",
     "text": [
      "z: 1.9599639845400576, diff: 3.438133903492506e7, std_diff: 537171.9546652769, suff_dec: 3.332850135027613e7\n",
      "Iteration: 2 -- loss: 3.3488791470233947e6 gradnorm: 6981.805826161006 ssize: 1\n",
      "z: 1.9599639845400576, diff: 2.5162279333867105e6, std_diff: 38962.53331605576, suff_dec: 2.439862771340799e6\n",
      "Iteration: 3 -- loss: 832651.2136366842 gradnorm: 1779.2021469313897 ssize: 1\n",
      "z: 1.9599639845400576, diff: 778825.7546616547, std_diff: 11633.90627062234, suff_dec: 756023.7173717201\n",
      "Iteration: 4 -- loss: 53825.45897502951 gradnorm: 728.59967045719 ssize: 1\n",
      "z: 1.9599639845400576, diff: 49625.42762736646, std_diff: 773.9400202538618, suff_dec: 48108.533061474685\n",
      "Iteration: 5 -- loss: 4200.031347663051 gradnorm: 198.42819546805657 ssize: 1\n",
      "z: 1.9599639845400576, diff: 2701.0388705671785, std_diff: 53.59314002221587, suff_dec: 2595.998246305223\n",
      "Iteration: 6 -- loss: 1498.9924770958726 gradnorm: 72.83594985932504 ssize: 1\n",
      "z: 1.9599639845400576, diff: 1414.554267703629, std_diff: 21.11934240593261, suff_dec: 1373.1611172108314\n",
      "Iteration: 7 -- loss: 84.43820939224368 gradnorm: 47.75087824070913 ssize: 1\n",
      "z: 1.9599639845400576, diff: 60.17971866338448, std_diff: 0.8923109496581902, suff_dec: 58.43082133904369\n",
      "Iteration: 8 -- loss: 24.25849072885919 gradnorm: 7.469500334699719 ssize: 1\n",
      "z: 1.9599639845400576, diff: 23.759852306190528, std_diff: 0.3420151753014777, suff_dec: 23.089514880433477\n",
      "Iteration: 9 -- loss: 0.4986384226686627 gradnorm: 3.7051968494618337 ssize: 1\n",
      "z: 1.9599639845400576, diff: 0.250425393145549, std_diff: 0.007600490000812784, suff_dec: 0.23552870647909913\n",
      "Iteration: 10 -- loss: 0.24821302952311372 gradnorm: 0.6370967387786057 ssize: 1\n",
      "z: 1.9599639845400576, diff: 0.24290505975878615, std_diff: 0.003547422272075321, suff_dec: 0.23595223986756325\n",
      "Iteration: 11 -- loss: 0.00530796976432756 gradnorm: 0.6305432016451082 ssize: 1\n",
      "z: 1.9599639845400576, diff: 0.004112177539454136, std_diff: 6.341442292644293e-5, suff_dec: 0.003987887554417916\n",
      "Iteration: 12 -- loss: 0.0011957922248734241 gradnorm: 0.062338125064961676 ssize: 1\n",
      "z: 1.9599639845400576, diff: 0.001139662762138532, std_diff: 1.688395303996911e-5, suff_dec: 0.0011065708222635269\n",
      "Iteration: 13 -- loss: 5.612946273489209e-5 gradnorm: 0.026263480666322177 ssize: 1\n",
      "z: 1.9599639845400576, diff: 3.543795503211494e-5, std_diff: 7.960705805508862e-7, suff_dec: 3.387768536508331e-5\n",
      "Iteration: 14 -- loss: 2.069150770277716e-5 gradnorm: 0.0065264879984054 ssize: 1\n",
      "z: 1.9599639845400576, diff: 2.0217310128722876e-5, std_diff: 2.922637627867836e-7, suff_dec: 1.964448367967462e-5\n",
      "Iteration: 15 -- loss: 4.741975740542838e-7 gradnorm: 0.005639191681077111 ssize: 1\n",
      "z: 1.9599639845400576, diff: 3.750785221030621e-7, std_diff: 6.058329116844831e-9, suff_dec: 3.632044152275558e-7\n",
      "Iteration: 16 -- loss: 9.911905195122161e-8 gradnorm: 0.000659649456764081 ssize: 1\n",
      "z: 1.9599639845400576, diff: 8.667080143511662e-8, std_diff: 1.2590463063166402e-9, suff_dec: 8.420311601986782e-8\n",
      "Iteration: 17 -- loss: 1.2448250516104974e-8 gradnorm: 0.00023809709652082458 ssize: 1\n",
      "z: 1.9599639845400576, diff: 1.1004085178856277e-8, std_diff: 1.7876233763620587e-10, suff_dec: 1.0653717435297123e-8\n",
      "Iteration: 18 -- loss: 1.4441653372486973e-9 gradnorm: 8.621247401866675e-5 ssize: 1\n",
      "z: 1.9599639845400576, diff: 6.828399065894816e-10, std_diff: 1.496642953400277e-11, suff_dec: 6.535062437256795e-10\n",
      "Iteration: 19 -- loss: 7.613254306592157e-10 gradnorm: 4.7542421285702687e-5 ssize: 1\n",
      "z: 1.9599639845400576, diff: 7.52231337690883e-10, std_diff: 1.0779327346914379e-11, suff_dec: 7.31104244313363e-10\n",
      "Iteration: 20 -- loss: 9.094092968332752e-12 gradnorm: 3.385412192854708e-5 ssize: 1\n",
      "z: 1.9599639845400576, diff: 5.82346909037037e-12, std_diff: 8.337865831749589e-14, suff_dec: 5.660049922988807e-12\n",
      "Iteration: 21 -- loss: 3.270623877962382e-12 gradnorm: 2.296832868563215e-6 ssize: 1\n",
      "z: 1.9599639845400576, diff: 3.1774799437951788e-12, std_diff: 4.5817372452687724e-14, suff_dec: 3.087679543921653e-12\n",
      "Iteration: 22 -- loss: 9.314393416720342e-14 gradnorm: 1.3426587539842786e-6 ssize: 1\n",
      "z: 1.9599639845400576, diff: 8.706601103268582e-14, std_diff: 1.3374760772149578e-15, suff_dec: 8.444460609116058e-14\n",
      "Iteration: 23 -- loss: 6.077923134517591e-15 gradnorm: 3.565532729278503e-7 ssize: 0.5\n"
     ]
    },
    {
     "data": {
      "text/plain": [
       "([0.9999999958734821, 1.9999999961868158, 2.9999999973956446, 3.999999998454709, 5.000000001790283, 5.99999999974061, 6.999999998780582, 7.999999999433447, 8.999999997086208, 9.999999994988105  …  991.000000003319, 991.9999999974096, 992.9999999976799, 994.0000000024258, 994.9999999983291, 995.9999999993394, 996.9999999964253, 997.9999999944831, 998.9999999997395, 1000.0000000022836], 6.077923134517591e-15, 22, 23)"
      ]
     },
     "execution_count": 17,
     "metadata": {},
     "output_type": "execute_result"
    }
   ],
   "source": [
    "lbfgs!(F, zeros(p), X, y, Sₘ, Yₘ, global_iter, 45, m, 1e-6, 1)"
   ]
  },
  {
   "cell_type": "code",
   "execution_count": null,
   "id": "653829bc",
   "metadata": {},
   "outputs": [],
   "source": []
  }
 ],
 "metadata": {
  "kernelspec": {
   "display_name": "Julia 1.7.3",
   "language": "julia",
   "name": "julia-1.7"
  },
  "language_info": {
   "file_extension": ".jl",
   "mimetype": "application/julia",
   "name": "julia",
   "version": "1.7.3"
  }
 },
 "nbformat": 4,
 "nbformat_minor": 5
}
