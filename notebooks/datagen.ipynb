{
 "cells": [
  {
   "cell_type": "code",
   "execution_count": 1,
   "metadata": {},
   "outputs": [],
   "source": [
    "using CSV, DataFrames, Distributions, LinearAlgebra"
   ]
  },
  {
   "cell_type": "code",
   "execution_count": 2,
   "metadata": {},
   "outputs": [
    {
     "data": {
      "text/plain": [
       "fibo (generic function with 1 method)"
      ]
     },
     "execution_count": 2,
     "metadata": {},
     "output_type": "execute_result"
    }
   ],
   "source": [
    "function fibo(n::Int)\n",
    "    tmp = Array{Float64}(undef, n)\n",
    "    tmp[1] = 1\n",
    "    tmp[2] = 1\n",
    "    for k in 3:n\n",
    "        tmp[k] = (tmp[k - 1] + tmp[k - 2]) % 100\n",
    "    end\n",
    "    return tmp\n",
    "end"
   ]
  },
  {
   "cell_type": "code",
   "execution_count": 3,
   "metadata": {},
   "outputs": [],
   "source": [
    "d = 10\n",
    "beta = fibo(d)\n",
    "nalt = 5\n",
    "nobs = 100_000\n",
    "gbl = Gumbel();"
   ]
  },
  {
   "cell_type": "code",
   "execution_count": 4,
   "metadata": {},
   "outputs": [
    {
     "data": {
      "text/plain": [
       "genobs (generic function with 1 method)"
      ]
     },
     "execution_count": 4,
     "metadata": {},
     "output_type": "execute_result"
    }
   ],
   "source": [
    "function genobs(beta::Vector; verbose::Bool = false)\n",
    "    v = rand(nalt, d)\n",
    "    g = rand(gbl, nalt)\n",
    "    uti = v * beta + g\n",
    "    verbose && @show g\n",
    "    prm = sortperm(uti, rev = true)\n",
    "    verbose && @show prm\n",
    "    newv = v[prm, :]\n",
    "    reshape(Array(newv'), d * nalt)\n",
    "end"
   ]
  },
  {
   "cell_type": "code",
   "execution_count": 5,
   "metadata": {},
   "outputs": [
    {
     "data": {
      "text/plain": [
       "10-element Vector{Float64}:\n",
       "  1.0\n",
       "  1.0\n",
       "  2.0\n",
       "  3.0\n",
       "  5.0\n",
       "  8.0\n",
       " 13.0\n",
       " 21.0\n",
       " 34.0\n",
       " 55.0"
      ]
     },
     "execution_count": 5,
     "metadata": {},
     "output_type": "execute_result"
    }
   ],
   "source": [
    "beta"
   ]
  },
  {
   "cell_type": "code",
   "execution_count": 6,
   "metadata": {},
   "outputs": [
    {
     "name": "stdout",
     "output_type": "stream",
     "text": [
      "g = [0.11064789117456994, 1.259736829962067, 0.7665448902379626, -0.19603537744410163, 0.4179973937825444]\n",
      "prm = [1, 5, 4, 3, 2]\n"
     ]
    },
    {
     "data": {
      "text/plain": [
       "50-element Vector{Float64}:\n",
       " 0.23058479384977626\n",
       " 0.6163890204980407\n",
       " 0.7657703270603845\n",
       " 0.8570286825596063\n",
       " 0.2993480941040796\n",
       " 0.6547788100879314\n",
       " 0.9451655869384784\n",
       " 0.5112538625810809\n",
       " 0.3520756998198812\n",
       " 0.8619035155391415\n",
       " 0.5579876188521001\n",
       " 0.9701651228325222\n",
       " 0.828462341466641\n",
       " ⋮\n",
       " 0.48200431853213666\n",
       " 0.2944006142895419\n",
       " 0.8891038129008356\n",
       " 0.26256453663478574\n",
       " 0.7638282580635349\n",
       " 0.089374537850482\n",
       " 0.25746991708338895\n",
       " 0.2516927514983831\n",
       " 0.9917208078801825\n",
       " 0.6750099086537366\n",
       " 0.17454615684007257\n",
       " 0.06317703107256756"
      ]
     },
     "execution_count": 6,
     "metadata": {},
     "output_type": "execute_result"
    }
   ],
   "source": [
    "genobs(beta, verbose = true)"
   ]
  },
  {
   "cell_type": "code",
   "execution_count": 7,
   "metadata": {},
   "outputs": [
    {
     "name": "stdout",
     "output_type": "stream",
     "text": [
      "g = [1.6235125382764724, -0.015733695273928993, 0.2756944233778616, -0.7086700708913852, 0.133438241639502]\n",
      "prm = [2, 4, 1, 3, 5]\n"
     ]
    }
   ],
   "source": [
    "for _ in 1:1\n",
    "    genobs(beta, verbose = true)\n",
    "end"
   ]
  },
  {
   "cell_type": "code",
   "execution_count": 9,
   "metadata": {},
   "outputs": [
    {
     "data": {
      "text/plain": [
       "\"../data/logit.csv\""
      ]
     },
     "execution_count": 9,
     "metadata": {},
     "output_type": "execute_result"
    }
   ],
   "source": [
    "data = Array(hcat([genobs(beta) for _ in 1:nobs]...)');\n",
    "CSV.write(\"../data/logit.csv\", DataFrame(data, :auto))"
   ]
  },
  {
   "cell_type": "code",
   "execution_count": 10,
   "metadata": {},
   "outputs": [
    {
     "data": {
      "text/plain": [
       "genbetaNormal (generic function with 2 methods)"
      ]
     },
     "execution_count": 10,
     "metadata": {},
     "output_type": "execute_result"
    }
   ],
   "source": [
    "function genbetaNormal(mu::Vector, Σ = I)\n",
    "    return rand(MvNormal(mu, Σ))\n",
    "end"
   ]
  },
  {
   "cell_type": "code",
   "execution_count": 12,
   "metadata": {},
   "outputs": [
    {
     "data": {
      "text/plain": [
       "\"../data/mixedlogit.csv\""
      ]
     },
     "execution_count": 12,
     "metadata": {},
     "output_type": "execute_result"
    }
   ],
   "source": [
    "data = Array(hcat([genobs(genbetaNormal(beta)) for _ in 1:nobs]...)');\n",
    "CSV.write(\"../data/mixedlogit.csv\", DataFrame(data, :auto))"
   ]
  },
  {
   "cell_type": "code",
   "execution_count": null,
   "metadata": {},
   "outputs": [],
   "source": []
  }
 ],
 "metadata": {
  "kernelspec": {
   "display_name": "Julia 1.7.3",
   "language": "julia",
   "name": "julia-1.7"
  },
  "language_info": {
   "file_extension": ".jl",
   "mimetype": "application/julia",
   "name": "julia",
   "version": "1.7.3"
  }
 },
 "nbformat": 4,
 "nbformat_minor": 4
}
