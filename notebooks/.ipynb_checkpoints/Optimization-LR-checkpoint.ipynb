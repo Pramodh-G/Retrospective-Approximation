{
 "cells": [
  {
   "cell_type": "code",
   "execution_count": 19,
   "id": "d6f02443",
   "metadata": {},
   "outputs": [
    {
     "name": "stderr",
     "output_type": "stream",
     "text": [
      "WARNING: using Random.shuffle in module Main conflicts with an existing identifier.\n"
     ]
    }
   ],
   "source": [
    "using LinearAlgebra, Distributions, Random\n",
    "using CSV, DataFrames, DelimitedFiles"
   ]
  },
  {
   "cell_type": "code",
   "execution_count": 7,
   "id": "d6dd8a5e",
   "metadata": {},
   "outputs": [],
   "source": [
    "data = CSV.read(\"../data/lr.csv\", DataFrame);\n",
    "data = Matrix(data);"
   ]
  },
  {
   "cell_type": "code",
   "execution_count": 10,
   "id": "c56a89c7",
   "metadata": {},
   "outputs": [],
   "source": [
    "X = data[:, 1:end - 1];\n",
    "y = data[:, end];"
   ]
  },
  {
   "cell_type": "code",
   "execution_count": 11,
   "id": "996009b0",
   "metadata": {},
   "outputs": [
    {
     "data": {
      "text/plain": [
       "(100000, 10)"
      ]
     },
     "execution_count": 11,
     "metadata": {},
     "output_type": "execute_result"
    }
   ],
   "source": [
    "n, p = size(X)"
   ]
  },
  {
   "cell_type": "code",
   "execution_count": 15,
   "id": "d2523183",
   "metadata": {},
   "outputs": [
    {
     "data": {
      "text/plain": [
       "σ (generic function with 1 method)"
      ]
     },
     "execution_count": 15,
     "metadata": {},
     "output_type": "execute_result"
    }
   ],
   "source": [
    "function σ(x)\n",
    "    return one(x) / (one(x) + exp(-x))\n",
    "end"
   ]
  },
  {
   "cell_type": "code",
   "execution_count": 16,
   "id": "a1d8d014",
   "metadata": {},
   "outputs": [
    {
     "data": {
      "text/plain": [
       "grad (generic function with 1 method)"
      ]
     },
     "execution_count": 16,
     "metadata": {},
     "output_type": "execute_result"
    }
   ],
   "source": [
    "# return expected gradient with respect to current β.\n",
    "function grad(X, y, β)\n",
    "    n_obs = size(X)[1]\n",
    "    prob = σ.(X * β)\n",
    "    g  = X' * (y - prob)\n",
    "    return g\n",
    "end"
   ]
  },
  {
   "cell_type": "code",
   "execution_count": 17,
   "id": "f8b24e03",
   "metadata": {},
   "outputs": [
    {
     "data": {
      "text/plain": [
       "step (generic function with 1 method)"
      ]
     },
     "execution_count": 17,
     "metadata": {},
     "output_type": "execute_result"
    }
   ],
   "source": [
    "function step(βₖ, αₖ, ∇βₖ)\n",
    "    βₖ₊₁ = @. βₖ - αₖ * ∇βₖ\n",
    "    return βₖ₊₁\n",
    "end"
   ]
  },
  {
   "cell_type": "code",
   "execution_count": 21,
   "id": "be8420ef",
   "metadata": {},
   "outputs": [
    {
     "data": {
      "text/plain": [
       "batch_shuffle (generic function with 1 method)"
      ]
     },
     "execution_count": 21,
     "metadata": {},
     "output_type": "execute_result"
    }
   ],
   "source": [
    "function batch_shuffle(X, y, mini_batch_size)\n",
    "    n = size(X)[1]\n",
    "    perm = randperm(n)[1:mini_batch_size]\n",
    "    X_mini = X[perm, :]\n",
    "    y_mini = y[perm, :]\n",
    "    return X_mini, y_mini\n",
    "end"
   ]
  },
  {
   "cell_type": "code",
   "execution_count": null,
   "id": "529ad419",
   "metadata": {},
   "outputs": [],
   "source": [
    "function sgd(X, y, β₀, niter)\n",
    "    βᵢ = β₀\n",
    "    for i in 1:niter\n",
    "        "
   ]
  }
 ],
 "metadata": {
  "kernelspec": {
   "display_name": "Julia 1.7.3",
   "language": "julia",
   "name": "julia-1.7"
  },
  "language_info": {
   "file_extension": ".jl",
   "mimetype": "application/julia",
   "name": "julia",
   "version": "1.7.3"
  }
 },
 "nbformat": 4,
 "nbformat_minor": 5
}
