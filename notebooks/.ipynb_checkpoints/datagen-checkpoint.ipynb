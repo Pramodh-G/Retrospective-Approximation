{
 "cells": [
  {
   "cell_type": "code",
   "execution_count": 1,
   "metadata": {},
   "outputs": [],
   "source": [
    "using CSV, DataFrames, Distributions, LinearAlgebra"
   ]
  },
  {
   "cell_type": "code",
   "execution_count": 2,
   "metadata": {},
   "outputs": [
    {
     "data": {
      "text/plain": [
       "fibo (generic function with 1 method)"
      ]
     },
     "execution_count": 2,
     "metadata": {},
     "output_type": "execute_result"
    }
   ],
   "source": [
    "function fibo(n::Int)\n",
    "    tmp = Array{Float64}(undef, n)\n",
    "    tmp[1] = 1\n",
    "    tmp[2] = 1\n",
    "    for k in 3:n\n",
    "        tmp[k] = (tmp[k - 1] + tmp[k - 2]) % 100\n",
    "    end\n",
    "    return tmp\n",
    "end"
   ]
  },
  {
   "cell_type": "code",
   "execution_count": 3,
   "metadata": {},
   "outputs": [],
   "source": [
    "d = 10\n",
    "beta = fibo(d)\n",
    "nalt = 5\n",
    "nobs = 100_000\n",
    "gbl = Gumbel();"
   ]
  },
  {
   "cell_type": "code",
   "execution_count": 4,
   "metadata": {},
   "outputs": [
    {
     "data": {
      "text/plain": [
       "genobs (generic function with 1 method)"
      ]
     },
     "execution_count": 4,
     "metadata": {},
     "output_type": "execute_result"
    }
   ],
   "source": [
    "function genobs(beta::Vector; verbose::Bool = false)\n",
    "    v = rand(nalt, d)\n",
    "    g = rand(gbl, nalt)\n",
    "    uti = v * beta + g\n",
    "    verbose && @show g\n",
    "    prm = sortperm(uti, rev = true)\n",
    "    verbose && @show prm\n",
    "    newv = v[prm, :]\n",
    "    reshape(Array(newv'), d * nalt)\n",
    "end"
   ]
  },
  {
   "cell_type": "code",
   "execution_count": 5,
   "metadata": {},
   "outputs": [
    {
     "data": {
      "text/plain": [
       "10-element Vector{Float64}:\n",
       "  1.0\n",
       "  1.0\n",
       "  2.0\n",
       "  3.0\n",
       "  5.0\n",
       "  8.0\n",
       " 13.0\n",
       " 21.0\n",
       " 34.0\n",
       " 55.0"
      ]
     },
     "execution_count": 5,
     "metadata": {},
     "output_type": "execute_result"
    }
   ],
   "source": [
    "beta"
   ]
  },
  {
   "cell_type": "code",
   "execution_count": 6,
   "metadata": {},
   "outputs": [
    {
     "name": "stdout",
     "output_type": "stream",
     "text": [
      "g = [0.9978010846476557, -0.139562839302119, 0.12202391973039702, 1.2523556820136021, 0.4070890535014029]\n",
      "prm = [3, 1, 2, 4, 5]\n"
     ]
    },
    {
     "data": {
      "text/plain": [
       "50-element Vector{Float64}:\n",
       " 0.4498474045279317\n",
       " 0.9446352966280527\n",
       " 0.8506172378986085\n",
       " 0.16245776229440456\n",
       " 0.9580758159660623\n",
       " 0.947713816596774\n",
       " 0.6778594799909958\n",
       " 0.6439339424964896\n",
       " 0.9242773645915514\n",
       " 0.5364762102883123\n",
       " 0.9521310685745372\n",
       " 0.37610932185616863\n",
       " 0.12461800258155975\n",
       " ⋮\n",
       " 0.325775738825558\n",
       " 0.5327736635741003\n",
       " 0.9263794810990305\n",
       " 0.3209768892145113\n",
       " 0.035718989827063785\n",
       " 0.28669731920277175\n",
       " 0.0014778840674545268\n",
       " 0.9393885628384349\n",
       " 0.28930527495372305\n",
       " 0.589975577936924\n",
       " 0.3431400719759474\n",
       " 0.1140926004283549"
      ]
     },
     "execution_count": 6,
     "metadata": {},
     "output_type": "execute_result"
    }
   ],
   "source": [
    "genobs(beta, verbose = true)"
   ]
  },
  {
   "cell_type": "code",
   "execution_count": 7,
   "metadata": {},
   "outputs": [
    {
     "name": "stdout",
     "output_type": "stream",
     "text": [
      "g = [0.08049977556382416, 0.9590796748134368, 0.04918723934094038, -0.5982401156676728, 1.6071035017897706]\n",
      "prm = [2, 4, 3, 1, 5]\n"
     ]
    }
   ],
   "source": [
    "for _ in 1:1\n",
    "    genobs(beta, verbose = true)\n",
    "end"
   ]
  },
  {
   "cell_type": "code",
   "execution_count": 8,
   "metadata": {},
   "outputs": [
    {
     "data": {
      "text/plain": [
       "\"../data/logit.csv\""
      ]
     },
     "execution_count": 8,
     "metadata": {},
     "output_type": "execute_result"
    }
   ],
   "source": [
    "data = Array(hcat([genobs(beta) for _ in 1:nobs]...)');\n",
    "CSV.write(\"../data/logit.csv\", DataFrame(data))"
   ]
  },
  {
   "cell_type": "code",
   "execution_count": 9,
   "metadata": {},
   "outputs": [
    {
     "data": {
      "text/plain": [
       "genbetaNormal (generic function with 2 methods)"
      ]
     },
     "execution_count": 9,
     "metadata": {},
     "output_type": "execute_result"
    }
   ],
   "source": [
    "function genbetaNormal(mu::Vector, Σ = I)\n",
    "    return rand(MvNormal(mu, Σ))\n",
    "end"
   ]
  },
  {
   "cell_type": "code",
   "execution_count": 10,
   "metadata": {},
   "outputs": [
    {
     "data": {
      "text/plain": [
       "\"../data/mixedlogit.csv\""
      ]
     },
     "execution_count": 10,
     "metadata": {},
     "output_type": "execute_result"
    }
   ],
   "source": [
    "data = Array(hcat([genobs(genbetaNormal(beta)) for _ in 1:nobs]...)');\n",
    "CSV.write(\"../data/mixedlogit.csv\", DataFrame(data))"
   ]
  },
  {
   "cell_type": "code",
   "execution_count": null,
   "metadata": {},
   "outputs": [],
   "source": []
  }
 ],
 "metadata": {
  "kernelspec": {
   "display_name": "Julia 1.6.2",
   "language": "julia",
   "name": "julia-1.6"
  },
  "language_info": {
   "file_extension": ".jl",
   "mimetype": "application/julia",
   "name": "julia",
   "version": "1.6.0"
  }
 },
 "nbformat": 4,
 "nbformat_minor": 4
}
