{
 "cells": [
  {
   "cell_type": "code",
   "execution_count": 15,
   "id": "6ff013b2",
   "metadata": {},
   "outputs": [],
   "source": [
    "using Distributions, CSV, DataFrames, LinearAlgebra"
   ]
  },
  {
   "cell_type": "code",
   "execution_count": 16,
   "id": "ca6b1705",
   "metadata": {},
   "outputs": [
    {
     "data": {
      "text/plain": [
       "100000"
      ]
     },
     "execution_count": 16,
     "metadata": {},
     "output_type": "execute_result"
    }
   ],
   "source": [
    "p = 10\n",
    "n = Int(1e5)"
   ]
  },
  {
   "cell_type": "code",
   "execution_count": 17,
   "id": "b8583d75",
   "metadata": {},
   "outputs": [],
   "source": [
    "# random X data.\n",
    "X = randn(n, p - 1)\n",
    "X = [ones(n) ;; X];"
   ]
  },
  {
   "cell_type": "code",
   "execution_count": 18,
   "id": "8ad4e311",
   "metadata": {},
   "outputs": [
    {
     "data": {
      "text/plain": [
       "10-element Vector{Float64}:\n",
       " -1.5727284700794217\n",
       " -2.060094866034966\n",
       " -0.6122005233464135\n",
       "  0.28757499960190364\n",
       " -0.6454105935336312\n",
       "  0.6180388385080137\n",
       " -1.9916554296597748\n",
       "  1.0589251350239832\n",
       "  0.5717356320688087\n",
       "  0.8658754407524343"
      ]
     },
     "execution_count": 18,
     "metadata": {},
     "output_type": "execute_result"
    }
   ],
   "source": [
    "# generate true value of beta for LR.\n",
    "β = randn(p)"
   ]
  },
  {
   "cell_type": "code",
   "execution_count": 21,
   "id": "68e48a6a",
   "metadata": {},
   "outputs": [
    {
     "data": {
      "text/plain": [
       "σ (generic function with 1 method)"
      ]
     },
     "execution_count": 21,
     "metadata": {},
     "output_type": "execute_result"
    }
   ],
   "source": [
    "function σ(x)\n",
    "    return one(x) / (one(x) + exp(-x))\n",
    "end"
   ]
  },
  {
   "cell_type": "code",
   "execution_count": 26,
   "id": "8149394f",
   "metadata": {},
   "outputs": [
    {
     "data": {
      "text/plain": [
       "100000-element Vector{Float64}:\n",
       " 0.05377530414171608\n",
       " 0.018433602821973868\n",
       " 0.0017427279776555914\n",
       " 0.09495015357907391\n",
       " 0.47088284936994723\n",
       " 5.7367554796054436e-5\n",
       " 0.6034395132225718\n",
       " 0.9103058664936203\n",
       " 1.5802017348195626e-5\n",
       " 0.003056904936912588\n",
       " 0.026392090924970857\n",
       " 0.9853354560111928\n",
       " 0.03373958582856118\n",
       " ⋮\n",
       " 0.15346439764897665\n",
       " 0.09061506933667282\n",
       " 0.0743938851728804\n",
       " 0.07092518696142859\n",
       " 0.995789579465027\n",
       " 0.2312612366721787\n",
       " 0.021366398847674953\n",
       " 0.13252707398402316\n",
       " 0.5873014454669349\n",
       " 0.0007141913398284605\n",
       " 0.9231928712555041\n",
       " 0.9205974819627653"
      ]
     },
     "execution_count": 26,
     "metadata": {},
     "output_type": "execute_result"
    }
   ],
   "source": [
    "p = σ.(X * β)"
   ]
  },
  {
   "cell_type": "code",
   "execution_count": 27,
   "id": "74017bbd",
   "metadata": {},
   "outputs": [
    {
     "data": {
      "text/plain": [
       "100000-element BitVector:\n",
       " 0\n",
       " 0\n",
       " 0\n",
       " 0\n",
       " 1\n",
       " 0\n",
       " 1\n",
       " 1\n",
       " 0\n",
       " 0\n",
       " 0\n",
       " 1\n",
       " 1\n",
       " ⋮\n",
       " 0\n",
       " 0\n",
       " 0\n",
       " 0\n",
       " 1\n",
       " 0\n",
       " 0\n",
       " 0\n",
       " 1\n",
       " 0\n",
       " 1\n",
       " 1"
      ]
     },
     "execution_count": 27,
     "metadata": {},
     "output_type": "execute_result"
    }
   ],
   "source": [
    "# generate labels\n",
    "y = rand(n) .< p"
   ]
  },
  {
   "cell_type": "code",
   "execution_count": null,
   "id": "31dd2d9d",
   "metadata": {},
   "outputs": [],
   "source": []
  }
 ],
 "metadata": {
  "kernelspec": {
   "display_name": "Julia 1.7.3",
   "language": "julia",
   "name": "julia-1.7"
  },
  "language_info": {
   "file_extension": ".jl",
   "mimetype": "application/julia",
   "name": "julia",
   "version": "1.7.3"
  }
 },
 "nbformat": 4,
 "nbformat_minor": 5
}
