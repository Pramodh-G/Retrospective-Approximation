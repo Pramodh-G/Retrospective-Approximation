{
 "cells": [
  {
   "cell_type": "code",
   "execution_count": 1,
   "id": "2b9a65ee",
   "metadata": {},
   "outputs": [],
   "source": [
    "using LinearAlgebra, Distributions, Random, Optim, LineSearches, Statistics\n",
    "using CSV, DataFrames, DelimitedFiles"
   ]
  },
  {
   "cell_type": "code",
   "execution_count": 2,
   "id": "e5ac38bc",
   "metadata": {},
   "outputs": [],
   "source": [
    "# beta is (1, 2, 3, ... p)ᵀ, given in paper.\n",
    "data = CSV.read(\"../data/lin_reg.csv\", DataFrame);\n",
    "data = Matrix(data);"
   ]
  },
  {
   "cell_type": "code",
   "execution_count": 3,
   "id": "3103acc9",
   "metadata": {},
   "outputs": [],
   "source": [
    "const X = data[:, 1:end - 1];\n",
    "const y = data[:, end];\n",
    "const 𝒩 = Normal();"
   ]
  },
  {
   "cell_type": "code",
   "execution_count": 4,
   "id": "f2d117c4",
   "metadata": {},
   "outputs": [
    {
     "data": {
      "text/plain": [
       "(10000, 1000)"
      ]
     },
     "execution_count": 4,
     "metadata": {},
     "output_type": "execute_result"
    }
   ],
   "source": [
    "n, p = size(X)"
   ]
  },
  {
   "cell_type": "code",
   "execution_count": 5,
   "id": "b9205ee6",
   "metadata": {},
   "outputs": [
    {
     "data": {
      "text/plain": [
       "batch_shuffle (generic function with 1 method)"
      ]
     },
     "execution_count": 5,
     "metadata": {},
     "output_type": "execute_result"
    }
   ],
   "source": [
    "function batch_shuffle(X, y, mb_size)\n",
    "    n = size(X)[1]\n",
    "    perm = randperm(n)[1:mb_size]\n",
    "    X_mini = @view X[perm, :]\n",
    "    y_mini = @view y[perm, :]\n",
    "    return X_mini, y_mini\n",
    "end"
   ]
  },
  {
   "cell_type": "code",
   "execution_count": 6,
   "id": "55db6ba7",
   "metadata": {},
   "outputs": [
    {
     "data": {
      "text/plain": [
       "F (generic function with 1 method)"
      ]
     },
     "execution_count": 6,
     "metadata": {},
     "output_type": "execute_result"
    }
   ],
   "source": [
    "function F(β, X, y)\n",
    "    n = length(y)\n",
    "    res = y .- X * β\n",
    "    G = -X' * res\n",
    "    l = sum(abs2, res) / n\n",
    "    G = G ./ n\n",
    "    \n",
    "    return l, G\n",
    "end"
   ]
  },
  {
   "cell_type": "code",
   "execution_count": 7,
   "id": "de84036a",
   "metadata": {},
   "outputs": [
    {
     "data": {
      "text/plain": [
       "backtracking (generic function with 4 methods)"
      ]
     },
     "execution_count": 7,
     "metadata": {},
     "output_type": "execute_result"
    }
   ],
   "source": [
    "function backtracking(F, d, β, X, y, r = 0.5, c= 1e-4, nmax=100)\n",
    "    \n",
    "    #https://en.wikipedia.org/wiki/Backtracking_line_search\n",
    "    α = 1\n",
    "    fᵢ, gᵢ = F(β, X, y)\n",
    "    βₛ = β + α * d\n",
    "    fₛ, gₛ = F(βₛ, X, y)\n",
    "    n = 1\n",
    "    \n",
    "    while fₛ > fᵢ + c * α * dot(gᵢ, d) && n < nmax\n",
    "        n = n + 1\n",
    "        α = α * r\n",
    "        βₛ = β + α * d\n",
    "        fₛ, gₛ = F(βₛ, X, y)\n",
    "    end\n",
    "    \n",
    "    return α, fₛ, gₛ\n",
    "end"
   ]
  },
  {
   "cell_type": "code",
   "execution_count": 8,
   "id": "684c1059",
   "metadata": {},
   "outputs": [
    {
     "data": {
      "text/plain": [
       "approxInvHess (generic function with 1 method)"
      ]
     },
     "execution_count": 8,
     "metadata": {},
     "output_type": "execute_result"
    }
   ],
   "source": [
    "function approxInvHess(g, S, Y, H₀, global_iter)\n",
    "    \n",
    "    #https://en.wikipedia.org/wiki/Limited-memory_BFGS\n",
    "    n, m = size(S)\n",
    "    ρ = zeros(m)\n",
    "    \n",
    "    upper = global_iter\n",
    "    lower = global_iter - m + 2\n",
    "    @inbounds for index in lower:upper\n",
    "        if index < 2\n",
    "            continue\n",
    "        end\n",
    "        i = mod1(index, m)\n",
    "        ρ[i] = abs(1 / dot(Y[:, i], S[:, i]))\n",
    "    end\n",
    "\n",
    "    q = zeros(n)\n",
    "    α = zeros(m)\n",
    "    d = zeros(n)\n",
    "    β = zero(eltype(ρ))\n",
    "\n",
    "    copyto!(q, g)\n",
    "    \n",
    "    upper = global_iter\n",
    "    lower = global_iter - m + 1\n",
    "    @inbounds for index in upper:-1:lower\n",
    "        if index < 1\n",
    "            continue\n",
    "        end\n",
    "        \n",
    "        i = mod1(index, m)\n",
    "        α[i] = ρ[i] * dot(S[:, i], q)\n",
    "        @. q -= α[i] * Y[:, i]\n",
    "    end\n",
    "\n",
    "    d = H₀ * q\n",
    "    \n",
    "    @inbounds for index in lower:upper\n",
    "        if index < 1\n",
    "            continue\n",
    "        end\n",
    "        i = mod1(index, m)\n",
    "        β = ρ[i] * dot(Y[:, i], d)\n",
    "        @. d = d + S[:, i] * (α[i] - β)\n",
    "    end\n",
    "    \n",
    "    return d\n",
    "end"
   ]
  },
  {
   "cell_type": "code",
   "execution_count": 9,
   "id": "d2391f67",
   "metadata": {},
   "outputs": [
    {
     "data": {
      "text/plain": [
       "loss_vector (generic function with 1 method)"
      ]
     },
     "execution_count": 9,
     "metadata": {},
     "output_type": "execute_result"
    }
   ],
   "source": [
    "function loss_vector(β, X, y)\n",
    "    # returns the loss for each data point in X instead of summing over whole dataset\n",
    "    res = (y .- X * β)\n",
    "    l = vec(res .^ 2)\n",
    "    return l\n",
    "end"
   ]
  },
  {
   "cell_type": "code",
   "execution_count": 10,
   "id": "32b7976d",
   "metadata": {},
   "outputs": [
    {
     "data": {
      "text/plain": [
       "stop (generic function with 2 methods)"
      ]
     },
     "execution_count": 10,
     "metadata": {},
     "output_type": "execute_result"
    }
   ],
   "source": [
    "function stop(β, βₛ, X, y, α = 0.95)\n",
    "    # calculates if we get a decrease with CI α.\n",
    "    \n",
    "    z = quantile(𝒩, (1 + α)/2)\n",
    "    n = length(y)\n",
    "    \n",
    "    f = loss_vector(β, X, y)\n",
    "    g = loss_vector(βₛ, X, y)\n",
    "    mean_f = mean(f)\n",
    "    mean_g = mean(g)\n",
    "#     println(\"$(size(f)) $(typeof(β))\")\n",
    "    \n",
    "    var_diff = (var(f) + var(g) - 2 * cov(f, g)) / n\n",
    "    std_diff = sqrt(var_diff)\n",
    "    \n",
    "    diff = mean_f - mean_g\n",
    "    \n",
    "    suff_dec = diff - z * std_diff\n",
    "    println(\"z: $(z), diff: $(diff), std_diff: $(std_diff), suff_dec: $(suff_dec)\")\n",
    "    if suff_dec < 0\n",
    "        return true\n",
    "    else\n",
    "        return false\n",
    "    end\n",
    "end"
   ]
  },
  {
   "cell_type": "code",
   "execution_count": 11,
   "id": "7677b0f0",
   "metadata": {},
   "outputs": [
    {
     "data": {
      "text/plain": [
       "lbfgs! (generic function with 3 methods)"
      ]
     },
     "execution_count": 11,
     "metadata": {},
     "output_type": "execute_result"
    }
   ],
   "source": [
    "function lbfgs!(F, βᵢ, X, y, Sₘ, Yₘ, global_iter, maxIt, m, τgrad = 1e-8, verbose = 0)\n",
    "    \n",
    "    local_iter = 0\n",
    "    n = length(βᵢ)\n",
    "    d = zeros(n)\n",
    "    fᵢ, gᵢ = F(βᵢ, X, y)\n",
    "    \n",
    "    # use the simplest line search to find step size\n",
    "    α, fₛ, gₛ = backtracking(F, -gᵢ, βᵢ, X, y)\n",
    "    βₛ = βᵢ - α * gᵢ\n",
    "    \n",
    "    # counter\n",
    "    local_iter = 1\n",
    "\n",
    "    while true\n",
    "        \n",
    "        gnorm = norm(gᵢ)\n",
    "    \n",
    "        if local_iter > maxIt\n",
    "            break; \n",
    "        end\n",
    "        \n",
    "        if gnorm < τgrad \n",
    "            break; \n",
    "        end\n",
    "        \n",
    "        if stop(βᵢ, βₛ, X, y)\n",
    "            break;\n",
    "        end\n",
    "        \n",
    "        s₀ = βₛ - βᵢ\n",
    "        y₀ = gₛ - gᵢ\n",
    "        \n",
    "        H₀ = dot(s₀, y₀)/ dot(y₀, y₀) # hessian diagonal satisfying secant condition\n",
    "        i = mod1(global_iter, m)\n",
    "        \n",
    "        Sₘ[:, i] .= s₀\n",
    "        Yₘ[:, i] .= y₀\n",
    "        d = -approxInvHess(gₛ, Sₘ, Yₘ, H₀, global_iter)\n",
    "            \n",
    "        # new direction=p, find new step size\n",
    "        α, fs, gs = backtracking(F, d, βₛ, X, y)\n",
    "        \n",
    "        # update for next iteration\n",
    "        βᵢ .= βₛ\n",
    "        gᵢ .= gₛ\n",
    "        βₛ .= βₛ + α .* d\n",
    "        fₛ = fs\n",
    "        gₛ = gs\n",
    "        local_iter = local_iter + 1\n",
    "        global_iter = global_iter + 1\n",
    "\n",
    "        if verbose == 1\n",
    "            println(\"Iteration: $local_iter -- loss: $fₛ gradnorm: $(norm(gᵢ)) ssize: $α\")\n",
    "        end\n",
    "        \n",
    "\n",
    "\n",
    "    end\n",
    "    \n",
    "    local_iter = local_iter - 1\n",
    "    return βₛ, fₛ, local_iter, global_iter\n",
    "end"
   ]
  },
  {
   "cell_type": "code",
   "execution_count": 57,
   "id": "d1befaff",
   "metadata": {},
   "outputs": [
    {
     "data": {
      "text/plain": [
       "([0.7345304379615886 1.194419532332163 … -0.8337925975766404 0.7767363650416517; 0.5546372154799928 -1.291015929306516 … -1.4356116278902147 -1.1253333956724902; … ; -1.7691191329774862 -0.41010036497563407 … -0.5384284310795172 1.1860155373631533; -0.5981196367266651 1.482756460765924 … 0.07477237092761908 0.1589464326616038], [18013.960607947964; 19716.67198791676; … ; 5492.8770247251705; 27411.114012553313;;])"
      ]
     },
     "execution_count": 57,
     "metadata": {},
     "output_type": "execute_result"
    }
   ],
   "source": [
    "m = 10\n",
    "Sₘ = zeros(p, m)\n",
    "Yₘ = zeros(p, m);\n",
    "global_iter = 1\n",
    "\n",
    "mb_size = 4000\n",
    "X_mini, y_mini = batch_shuffle(X, y, mb_size) "
   ]
  },
  {
   "cell_type": "code",
   "execution_count": 58,
   "id": "12e5c908",
   "metadata": {},
   "outputs": [
    {
     "name": "stdout",
     "output_type": "stream",
     "text": [
      "z: 1.9599639845400576, diff: 2.3768409310449046e8, std_diff: 7.56635950598813e6, suff_dec: 2.2285430097867143e8\n",
      "Iteration: 2 -- loss: 1.121393532773848e7 gradnorm: 13211.59233439968 ssize: 1\n",
      "z: 1.9599639845400576, diff: 9.44565911585074e7, std_diff: 2.413496297382609e6, suff_dec: 8.972622533881672e7\n",
      "Iteration: 3 -- loss: 4.375254895218422e6 gradnorm: 3423.120998393185 ssize: 1\n",
      "z: 1.9599639845400576, diff: 6.838680432520061e6, std_diff: 185503.45337556416, suff_dec: 6.475100344896149e6\n",
      "Iteration: 4 -- loss: 1.7312462680906192e6 gradnorm: 1423.5029101827113 ssize: 1\n",
      "z: 1.9599639845400576, diff: 2.6440086271278025e6, std_diff: 68895.22625172295, suff_dec: 2.5089764649676867e6\n",
      "Iteration: 5 -- loss: 235097.00723697478 gradnorm: 945.7814545671425 ssize: 1\n",
      "z: 1.9599639845400576, diff: 1.4961492608536468e6, std_diff: 35596.04757328947, suff_dec: 1.4263822896180248e6\n",
      "Iteration: 6 -- loss: 114650.92859321412 gradnorm: 432.2374163584864 ssize: 1\n",
      "z: 1.9599639845400576, diff: 120446.07864376054, std_diff: 5763.943360299, suff_dec: 109148.9572486457\n",
      "Iteration: 7 -- loss: 12020.019047923319 gradnorm: 444.3304712014386 ssize: 1\n",
      "z: 1.9599639845400576, diff: 102630.909545291, std_diff: 2493.2640642926794, suff_dec: 97744.20177532938\n",
      "Iteration: 8 -- loss: 5137.528976066038 gradnorm: 89.42076618233308 ssize: 1\n",
      "z: 1.9599639845400576, diff: 6882.490071857255, std_diff: 196.11561819650288, suff_dec: 6498.110523386301\n",
      "Iteration: 9 -- loss: 1156.8360486575784 gradnorm: 45.002454914131185 ssize: 1\n",
      "z: 1.9599639845400576, diff: 3980.6929274084205, std_diff: 100.50040453276397, suff_dec: 3783.715754092497\n",
      "Iteration: 10 -- loss: 388.65464767284266 gradnorm: 21.85623086704757 ssize: 1\n",
      "z: 1.9599639845400576, diff: 768.1814009847362, std_diff: 27.17885363448061, suff_dec: 714.9118267200686\n",
      "Iteration: 11 -- loss: 112.44373450914057 gradnorm: 26.146117923199785 ssize: 1\n",
      "z: 1.9599639845400576, diff: 276.2109131637003, std_diff: 8.566351393007677, suff_dec: 259.4211729544907\n",
      "Iteration: 12 -- loss: 20.692237014256484 gradnorm: 12.508953090980867 ssize: 1\n",
      "z: 1.9599639845400576, diff: 91.7514974948823, std_diff: 2.3764948049941177, suff_dec: 87.09365326764728\n",
      "Iteration: 13 -- loss: 10.886448889157336 gradnorm: 2.855401696459009 ssize: 1\n",
      "z: 1.9599639845400576, diff: 9.805788125098513, std_diff: 0.2340094918375675, suff_dec: 9.347137949056359\n",
      "Iteration: 14 -- loss: 0.9939160067004116 gradnorm: 1.9186334939243357 ssize: 1\n",
      "z: 1.9599639845400576, diff: 9.892532882457001, std_diff: 0.24184006380053638, suff_dec: 9.41853506738908\n",
      "Iteration: 15 -- loss: 0.4840781657612671 gradnorm: 1.0556676392691235 ssize: 0.5\n",
      "z: 1.9599639845400576, diff: 0.5098378409389999, std_diff: 0.024546503372251477, suff_dec: 0.4617275783829959\n",
      "Iteration: 16 -- loss: 0.14223266459287023 gradnorm: 0.83962776936838 ssize: 1\n",
      "z: 1.9599639845400576, diff: 0.34184550116811774, std_diff: 0.00937865138480589, suff_dec: 0.32346368223034144\n",
      "Iteration: 17 -- loss: 0.06384267492926544 gradnorm: 0.25950907047105637 ssize: 1\n",
      "z: 1.9599639845400576, diff: 0.07838998966356393, std_diff: 0.002060163491803446, suff_dec: 0.07435214341736489\n",
      "Iteration: 18 -- loss: 0.010623187476068378 gradnorm: 0.1506484780163549 ssize: 1\n",
      "z: 1.9599639845400576, diff: 0.05321948745333375, std_diff: 0.001315299298042895, suff_dec: 0.05064154820027886\n",
      "Iteration: 19 -- loss: 0.005456972828614358 gradnorm: 0.0804474512452254 ssize: 1\n",
      "z: 1.9599639845400576, diff: 0.005166214647404651, std_diff: 0.0002624908103632428, suff_dec: 0.004651742112819961\n",
      "Iteration: 20 -- loss: 0.000426786071929743 gradnorm: 0.10533471032722788 ssize: 1\n",
      "z: 1.9599639845400576, diff: 0.005030186756748087, std_diff: 0.00012059088752610551, suff_dec: 0.004793832960333199\n",
      "Iteration: 21 -- loss: 0.00017068971659191278 gradnorm: 0.017121253716812137 ssize: 1\n",
      "z: 1.9599639845400576, diff: 0.0002560963553413767, std_diff: 7.801163665935426e-6, suff_dec: 0.00024080635551864077\n",
      "Iteration: 22 -- loss: 4.2557771524414024e-5 gradnorm: 0.00839185590749798 ssize: 1\n",
      "z: 1.9599639845400576, diff: 0.00012813194506522914, std_diff: 3.0099837959208186e-6, suff_dec: 0.00012223248523117518\n",
      "Iteration: 23 -- loss: 5.801852545275112e-6 gradnorm: 0.004023532448147584 ssize: 1\n",
      "z: 1.9599639845400576, diff: 3.6755918979595725e-5, std_diff: 9.517817448558421e-7, suff_dec: 3.489046103853558e-5\n",
      "Iteration: 24 -- loss: 1.5865166063506673e-6 gradnorm: 0.0030402514496193486 ssize: 0.5\n",
      "z: 1.9599639845400576, diff: 4.215335938554899e-6, std_diff: 1.3061515520978178e-7, suff_dec: 3.959334938508617e-6\n",
      "Iteration: 25 -- loss: 4.7791866555092e-7 gradnorm: 0.001313013103701225 ssize: 1\n",
      "z: 1.9599639845400576, diff: 1.1085979414884256e-6, std_diff: 3.1603882918106805e-8, suff_dec: 1.0466554691973155e-6\n",
      "Iteration: 26 -- loss: 2.2135922806325115e-7 gradnorm: 0.00042579962960076864 ssize: 1\n",
      "z: 1.9599639845400576, diff: 2.5655943749189113e-7, std_diff: 6.312851034207543e-9, suff_dec: 2.441864768250779e-7\n",
      "Iteration: 27 -- loss: 2.0666487987693936e-8 gradnorm: 0.00026839605381150577 ssize: 1\n",
      "z: 1.9599639845400576, diff: 2.0069274027688508e-7, std_diff: 4.870465340110173e-9, suff_dec: 1.911468036223185e-7\n",
      "Iteration: 28 -- loss: 1.373092110050201e-8 gradnorm: 0.00013004673268919242 ssize: 0.5\n",
      "z: 1.9599639845400576, diff: 6.9355668727510304e-9, std_diff: 5.715740384440469e-10, suff_dec: 5.815302342902584e-9\n",
      "Iteration: 29 -- loss: 3.1497221277701977e-9 gradnorm: 0.00014924487312171258 ssize: 1\n",
      "z: 1.9599639845400576, diff: 1.0581198952206192e-8, std_diff: 2.884756274922349e-10, suff_dec: 1.0015797111903817e-8\n",
      "Iteration: 30 -- loss: 1.451809789878065e-9 gradnorm: 3.905218464407851e-5 ssize: 1\n",
      "z: 1.9599639845400576, diff: 1.6979123461591997e-9, std_diff: 4.427459009301393e-11, suff_dec: 1.6111357441466183e-9\n",
      "Iteration: 31 -- loss: 2.467889073546248e-10 gradnorm: 2.2816679945688742e-5 ssize: 1\n",
      "z: 1.9599639845400576, diff: 1.2050208771786729e-9, std_diff: 3.011673180068528e-11, suff_dec: 1.1459931675172775e-9\n",
      "Iteration: 32 -- loss: 8.160728685044686e-11 gradnorm: 1.1769613392311414e-5 ssize: 1\n",
      "z: 1.9599639845400576, diff: 1.651816169380271e-10, std_diff: 5.937569542171613e-12, suff_dec: 1.5354419447966875e-10\n",
      "Iteration: 33 -- loss: 2.1396752002986278e-11 gradnorm: 1.2360347194638105e-5 ssize: 1\n",
      "z: 1.9599639845400576, diff: 6.021053339835765e-11, std_diff: 1.7707503920207255e-12, suff_dec: 5.673992640438684e-11\n",
      "Iteration: 34 -- loss: 4.3859438695045295e-12 gradnorm: 5.341792207275862e-6 ssize: 1\n",
      "z: 1.9599639845400576, diff: 1.7010809223253045e-11, std_diff: 4.3750026018454875e-13, suff_dec: 1.6153324470064424e-11\n",
      "Iteration: 35 -- loss: 2.326117783051161e-12 gradnorm: 1.3168917006659475e-6 ssize: 1\n",
      "z: 1.9599639845400576, diff: 2.0598262610801913e-12, std_diff: 5.0009296267860005e-14, suff_dec: 1.9618098415029923e-12\n",
      "Iteration: 36 -- loss: 2.298860149635539e-13 gradnorm: 9.054492712066194e-7 ssize: 1\n"
     ]
    },
    {
     "data": {
      "text/plain": [
       "([1.0000000213124367; 2.0000000066059154; … ; 998.999999999791; 1000.0000000088077;;], 2.298860149635539e-13, 35, 36)"
      ]
     },
     "execution_count": 58,
     "metadata": {},
     "output_type": "execute_result"
    }
   ],
   "source": [
    "lbfgs!(F, zeros(p), X_mini, y_mini, Sₘ, Yₘ, global_iter, 45, m, 1e-6, 1)"
   ]
  },
  {
   "cell_type": "code",
   "execution_count": 59,
   "id": "270d98a8",
   "metadata": {},
   "outputs": [
    {
     "data": {
      "text/plain": [
       "5-element Vector{Int64}:\n",
       " 2000\n",
       " 2400\n",
       " 2880\n",
       " 3456\n",
       " 4148"
      ]
     },
     "execution_count": 59,
     "metadata": {},
     "output_type": "execute_result"
    }
   ],
   "source": [
    "q = 1.2\n",
    "num_inner_iter = 5\n",
    "mbs = ones(Int, num_inner_iter) * 2000\n",
    "\n",
    "for i in 2:num_inner_iter\n",
    "    mbs[i] = ceil(Int, mbs[i - 1] * q)\n",
    "end\n",
    "mbs"
   ]
  },
  {
   "cell_type": "code",
   "execution_count": 60,
   "id": "653829bc",
   "metadata": {},
   "outputs": [
    {
     "data": {
      "text/plain": [
       "retrospective_approximation (generic function with 2 methods)"
      ]
     },
     "execution_count": 60,
     "metadata": {},
     "output_type": "execute_result"
    }
   ],
   "source": [
    "function retrospective_approximation(F, βᵢ, X, y, m, mbs, τgrad = 1e-6)\n",
    "    # m for LBFGS init.\n",
    "    S = zeros(p, m)\n",
    "    Y = zeros(p, m)\n",
    "    \n",
    "    global_iter = 1\n",
    "    local_iter = 0\n",
    "    grad_calls = 0\n",
    "    \n",
    "    for mb_size in  mbs\n",
    "        X_mini, y_mini = batch_shuffle(X, y, mb_size)\n",
    "        println(\"IN BATCH SIZE $mb_size------------------------------------\")\n",
    "        β, _, local_iter, global_iter = lbfgs!(F, βᵢ, X_mini, y_mini, S, Y, global_iter, 45, m, τgrad, 1)\n",
    "        βᵢ = β\n",
    "        grad_calls+=(local_iter * mb_size)\n",
    "    end\n",
    "    return βᵢ, grad_calls\n",
    "end"
   ]
  },
  {
   "cell_type": "code",
   "execution_count": 61,
   "id": "d527aec6",
   "metadata": {},
   "outputs": [
    {
     "name": "stdout",
     "output_type": "stream",
     "text": [
      "IN BATCH SIZE 2000------------------------------------\n",
      "z: 1.9599639845400576, diff: 1.268944998069948e8, std_diff: 1.0470958440973582e7, suff_dec: 1.0637179837907086e8\n",
      "Iteration: 2 -- loss: 2.3588594322308846e7 gradnorm: 20307.508825795165 ssize: 1\n",
      "z: 1.9599639845400576, diff: 1.75767660344177e8, std_diff: 6.2115603228376005e6, suff_dec: 1.635932258236173e8\n",
      "Iteration: 3 -- loss: 9.296331543667447e6 gradnorm: 5843.389117761632 ssize: 1\n",
      "z: 1.9599639845400576, diff: 1.4292262778641399e7, std_diff: 611804.4548650419, suff_dec: 1.3093148081524754e7\n",
      "Iteration: 4 -- loss: 6.207570109198522e6 gradnorm: 1881.1490709259358 ssize: 1\n",
      "z: 1.9599639845400576, diff: 3.088761434468925e6, std_diff: 135718.79504214926, suff_dec: 2.8227574841611385e6\n",
      "Iteration: 5 -- loss: 2.272010827482612e6 gradnorm: 1455.5330890920409 ssize: 1\n",
      "z: 1.9599639845400576, diff: 3.935559281715911e6, std_diff: 156336.68334471242, suff_dec: 3.629145012897831e6\n",
      "Iteration: 6 -- loss: 1.3276531870317408e6 gradnorm: 1128.4867792936661 ssize: 1\n",
      "z: 1.9599639845400576, diff: 944357.6404508706, std_diff: 75078.992497243, suff_dec: 797205.5191607211\n",
      "Iteration: 7 -- loss: 444034.03837583505 gradnorm: 1495.3559574755354 ssize: 1\n",
      "z: 1.9599639845400576, diff: 883619.1486559077, std_diff: 39199.594209303854, suff_dec: 806789.3557970872\n",
      "Iteration: 8 -- loss: 313133.4844434275 gradnorm: 382.95216203558385 ssize: 1\n",
      "z: 1.9599639845400576, diff: 130900.55393240682, std_diff: 6056.844005098718, suff_dec: 119029.35782243598\n",
      "Iteration: 9 -- loss: 122283.37208746129 gradnorm: 283.27157527237875 ssize: 1\n",
      "z: 1.9599639845400576, diff: 190850.11235596577, std_diff: 8060.53847087097, suff_dec: 175051.7472570591\n",
      "Iteration: 10 -- loss: 75959.52641032779 gradnorm: 229.1024364804277 ssize: 0.5\n",
      "z: 1.9599639845400576, diff: 46323.84567713339, std_diff: 3374.94026763527, suff_dec: 39709.084302594274\n",
      "Iteration: 11 -- loss: 37833.61167622002 gradnorm: 260.090277046754 ssize: 1\n",
      "z: 1.9599639845400576, diff: 38125.91473410771, std_diff: 1691.3336536025733, suff_dec: 34810.961687206116\n",
      "Iteration: 12 -- loss: 20477.91459822329 gradnorm: 114.81974140920066 ssize: 1\n",
      "z: 1.9599639845400576, diff: 17355.697077996545, std_diff: 815.689847352615, suff_dec: 15756.974354630442\n",
      "Iteration: 13 -- loss: 10623.426506956772 gradnorm: 72.75551394541323 ssize: 1\n",
      "z: 1.9599639845400576, diff: 9854.488091266368, std_diff: 431.8938811677636, suff_dec: 9007.991639034328\n",
      "Iteration: 14 -- loss: 8937.978377584397 gradnorm: 61.10319686907612 ssize: 1\n",
      "z: 1.9599639845400576, diff: 1685.448129372513, std_diff: 405.29550394763, suff_dec: 891.0835385391455\n",
      "Iteration: 15 -- loss: 2817.4769023492254 gradnorm: 124.09160797171599 ssize: 1\n",
      "z: 1.9599639845400576, diff: 6120.501475235159, std_diff: 247.6854379285717, suff_dec: 5635.046937400127\n",
      "Iteration: 16 -- loss: 2005.2370598858804 gradnorm: 28.41431033234048 ssize: 1\n",
      "z: 1.9599639845400576, diff: 812.2398424633254, std_diff: 40.04618288464878, suff_dec: 733.7507662911094\n",
      "Iteration: 17 -- loss: 986.5371252228509 gradnorm: 20.172757253643216 ssize: 1\n",
      "z: 1.9599639845400576, diff: 1018.6999346629979, std_diff: 44.244932188308674, suff_dec: 931.9814610754958\n",
      "Iteration: 18 -- loss: 758.4742014739691 gradnorm: 17.873189049542056 ssize: 1\n",
      "z: 1.9599639845400576, diff: 228.0629237489129, std_diff: 36.023164549073876, suff_dec: 157.45881862356794\n",
      "Iteration: 19 -- loss: 230.4855268516436 gradnorm: 37.46067142025062 ssize: 1\n",
      "z: 1.9599639845400576, diff: 527.9886746223282, std_diff: 20.993114826948833, suff_dec: 486.8429256381946\n",
      "Iteration: 20 -- loss: 149.0627101092075 gradnorm: 9.307218154562847 ssize: 1\n",
      "z: 1.9599639845400576, diff: 81.4228167424437, std_diff: 3.933120513702197, suff_dec: 73.71404218873171\n",
      "Iteration: 21 -- loss: 84.14805113971337 gradnorm: 5.64203795202478 ssize: 1\n",
      "z: 1.9599639845400576, diff: 64.91465896949109, std_diff: 2.860079513339539, suff_dec: 59.309006130424734\n",
      "Iteration: 22 -- loss: 40.75333730901005 gradnorm: 5.073619652565772 ssize: 1\n",
      "z: 1.9599639845400576, diff: 43.39471383070429, std_diff: 2.495160539829684, suff_dec: 38.50428903699258\n",
      "Iteration: 23 -- loss: 20.935826096322177 gradnorm: 6.689130913110654 ssize: 1\n",
      "z: 1.9599639845400576, diff: 19.817511212688093, std_diff: 1.3426170669555557, suff_dec: 17.186030116426394\n",
      "Iteration: 24 -- loss: 13.116224213059429 gradnorm: 3.597104764102907 ssize: 1\n",
      "z: 1.9599639845400576, diff: 7.819601883257324, std_diff: 0.385322934762841, suff_dec: 7.0643828087048774\n",
      "Iteration: 25 -- loss: 8.43484643648969 gradnorm: 1.6886838980161234 ssize: 1\n",
      "z: 1.9599639845400576, diff: 4.681377776570029, std_diff: 0.2006286552839353, suff_dec: 4.2881528379468135\n",
      "Iteration: 26 -- loss: 3.624747284347799 gradnorm: 1.2782171841808723 ssize: 1\n",
      "z: 1.9599639845400576, diff: 4.810099152140818, std_diff: 0.19362641611815987, suff_dec: 4.430598350093659\n",
      "Iteration: 27 -- loss: 2.6769733696441897 gradnorm: 1.1706256532020078 ssize: 0.5\n",
      "z: 1.9599639845400576, diff: 0.9477739147033883, std_diff: 0.10599169907200418, suff_dec: 0.7400340018620524\n",
      "Iteration: 28 -- loss: 1.241761990995592 gradnorm: 1.7222886294318318 ssize: 1\n",
      "z: 1.9599639845400576, diff: 1.4352113786492093, std_diff: 0.061022225194950284, suff_dec: 1.3156100150106138\n",
      "Iteration: 29 -- loss: 0.7589103589279921 gradnorm: 0.6185607225149421 ssize: 1\n",
      "z: 1.9599639845400576, diff: 0.4828516320687205, std_diff: 0.020972081874055307, suff_dec: 0.4417471069147467\n",
      "Iteration: 30 -- loss: 0.37714372278550934 gradnorm: 0.40784159053448665 ssize: 1\n",
      "z: 1.9599639845400576, diff: 0.38176663614162154, std_diff: 0.015662477569938407, suff_dec: 0.3510687441958758\n",
      "Iteration: 31 -- loss: 0.30408258746836875 gradnorm: 0.35348993328293427 ssize: 1\n",
      "z: 1.9599639845400576, diff: 0.07306113531746017, std_diff: 0.014481264825502082, suff_dec: 0.04467837780888932\n",
      "Iteration: 32 -- loss: 0.09037958801560585 gradnorm: 0.7525968522577016 ssize: 1\n",
      "z: 1.9599639845400576, diff: 0.21370299945274934, std_diff: 0.008826839537648545, suff_dec: 0.19640271186164399\n",
      "Iteration: 33 -- loss: 0.06265868037658702 gradnorm: 0.16371553913339687 ssize: 1\n",
      "z: 1.9599639845400576, diff: 0.02772090763896494, std_diff: 0.0012993959977223605, suff_dec: 0.025174138281773617\n",
      "Iteration: 34 -- loss: 0.027007550608907124 gradnorm: 0.11725494792122192 ssize: 1\n",
      "z: 1.9599639845400576, diff: 0.03565112976769551, std_diff: 0.0013957988305432364, suff_dec: 0.03291541433016763\n",
      "Iteration: 35 -- loss: 0.02518129354980448 gradnorm: 0.09224110252722931 ssize: 1\n",
      "z: 1.9599639845400576, diff: 0.0018262570592210807, std_diff: 0.0011920452321799696, suff_dec: -0.0005101086637943507\n",
      "IN BATCH SIZE 2400------------------------------------\n",
      "z: 1.9599639845400576, diff: 0.015965103213548416, std_diff: 0.0012104074811419329, suff_dec: 0.013592748143892379\n",
      "Iteration: 2 -- loss: 0.007541138939857524 gradnorm: 0.21112752288226677 ssize: 1\n",
      "z: 1.9599639845400576, diff: 0.01525401953443169, std_diff: 0.0006839356200672774, suff_dec: 0.013913530351355754\n",
      "Iteration: 3 -- loss: 0.007514731971102011 gradnorm: 0.08885089512376237 ssize: 0.5\n",
      "z: 1.9599639845400576, diff: 2.640696875551296e-5, std_diff: 0.00031858700534662766, suff_dec: -0.000598012087666348\n",
      "IN BATCH SIZE 2880------------------------------------\n",
      "z: 1.9599639845400576, diff: 0.0056816394262644, std_diff: 0.00028075500763269124, suff_dec: 0.005131369722825056\n",
      "Iteration: 2 -- loss: 0.0014097150942472992 gradnorm: 0.08375337612829199 ssize: 1\n",
      "z: 1.9599639845400576, diff: 0.0026396107952843667, std_diff: 0.00011420789810958663, suff_dec: 0.0024157674282395563\n",
      "Iteration: 3 -- loss: 0.001047930630735441 gradnorm: 0.03952789491270248 ssize: 1\n",
      "z: 1.9599639845400576, diff: 0.0003617844635118582, std_diff: 4.5057852487907305e-5, suff_dec: 0.00027347269541484124\n",
      "Iteration: 4 -- loss: 0.00017090596808532125 gradnorm: 0.03628079249199284 ssize: 1\n",
      "z: 1.9599639845400576, diff: 0.0008770246626501197, std_diff: 2.840005462379246e-5, suff_dec: 0.0008213615784285161\n",
      "Iteration: 5 -- loss: 8.745860496528657e-5 gradnorm: 0.007928487945115815 ssize: 1\n",
      "z: 1.9599639845400576, diff: 8.344736312003467e-5, std_diff: 2.7596673416567144e-6, suff_dec: 7.803851452107611e-5\n",
      "Iteration: 6 -- loss: 3.100542455685141e-5 gradnorm: 0.005497445397427658 ssize: 1\n",
      "z: 1.9599639845400576, diff: 5.645318040843517e-5, std_diff: 2.3960027604020745e-6, suff_dec: 5.1757101291188544e-5\n"
     ]
    },
    {
     "name": "stdout",
     "output_type": "stream",
     "text": [
      "Iteration: 7 -- loss: 1.197806690921082e-5 gradnorm: 0.006721302173795593 ssize: 1\n",
      "z: 1.9599639845400576, diff: 1.902735764764059e-5, std_diff: 8.317276613006658e-7, suff_dec: 1.7397201386545555e-5\n",
      "Iteration: 8 -- loss: 3.7811732007997966e-6 gradnorm: 0.004168965912185425 ssize: 1\n",
      "z: 1.9599639845400576, diff: 8.196893708411023e-6, std_diff: 2.667556219841006e-7, suff_dec: 7.674062296648605e-6\n",
      "Iteration: 9 -- loss: 2.1714956853458853e-6 gradnorm: 0.001198108768231253 ssize: 1\n",
      "z: 1.9599639845400576, diff: 1.6096775154539113e-6, std_diff: 5.1755653059501876e-8, suff_dec: 1.5082382994609373e-6\n",
      "Iteration: 10 -- loss: 4.5789107892698314e-7 gradnorm: 0.0007637842339362159 ssize: 1\n",
      "z: 1.9599639845400576, diff: 1.7136046064189022e-6, std_diff: 5.321744916546499e-8, suff_dec: 1.6093003227054996e-6\n",
      "Iteration: 11 -- loss: 2.3880467821511844e-7 gradnorm: 0.0004885429922152771 ssize: 0.5\n",
      "z: 1.9599639845400576, diff: 2.190864007118646e-7, std_diff: 1.0594682522025669e-8, suff_dec: 1.9832120454105825e-7\n",
      "Iteration: 12 -- loss: 6.76023545837753e-8 gradnorm: 0.00047856316984250805 ssize: 1\n",
      "z: 1.9599639845400576, diff: 1.7120232363134313e-7, std_diff: 5.129986578456068e-9, suff_dec: 1.6114773469639536e-7\n",
      "Iteration: 13 -- loss: 2.2000097675342214e-8 gradnorm: 0.00018230743747457074 ssize: 1\n",
      "z: 1.9599639845400576, diff: 4.56022569084331e-8, std_diff: 1.426405058734009e-9, suff_dec: 4.28065543659487e-8\n",
      "Iteration: 14 -- loss: 8.575145046718363e-9 gradnorm: 9.115800604846671e-5 ssize: 1\n",
      "z: 1.9599639845400576, diff: 1.3424952628623845e-8, std_diff: 5.14367086858569e-10, suff_dec: 1.2416811663548262e-8\n",
      "Iteration: 15 -- loss: 2.7666232866615264e-9 gradnorm: 8.813868882933715e-5 ssize: 1\n",
      "z: 1.9599639845400576, diff: 5.808521760056836e-9, std_diff: 2.252409687701484e-10, suff_dec: 5.3670575734244334e-9\n",
      "Iteration: 16 -- loss: 1.0419028394384764e-9 gradnorm: 4.722113872452121e-5 ssize: 1\n",
      "z: 1.9599639845400576, diff: 1.72472044722305e-9, std_diff: 5.334600351797436e-11, suff_dec: 1.620164201608673e-9\n",
      "Iteration: 17 -- loss: 3.717227447709842e-10 gradnorm: 2.059150943913557e-5 ssize: 1\n",
      "z: 1.9599639845400576, diff: 6.701800946674922e-10, std_diff: 2.2821744714320872e-11, suff_dec: 6.254502969630558e-10\n",
      "Iteration: 18 -- loss: 1.2391279872217468e-10 gradnorm: 1.2687597258625714e-5 ssize: 1\n",
      "z: 1.9599639845400576, diff: 2.4780994604880955e-10, std_diff: 9.102286773980815e-12, suff_dec: 2.2996979179485183e-10\n",
      "Iteration: 19 -- loss: 4.653204611708866e-11 gradnorm: 1.054654023752778e-5 ssize: 1\n",
      "z: 1.9599639845400576, diff: 7.738075260508602e-11, std_diff: 3.5686351222410045e-12, suff_dec: 7.038635629152894e-11\n",
      "Iteration: 20 -- loss: 1.614561606243803e-11 gradnorm: 7.323878805383792e-6 ssize: 1\n",
      "z: 1.9599639845400576, diff: 3.038643005465063e-11, std_diff: 1.071808138906015e-12, suff_dec: 2.8285724704057935e-11\n",
      "Iteration: 21 -- loss: 8.314189979634201e-12 gradnorm: 2.5861386309508604e-6 ssize: 1\n",
      "z: 1.9599639845400576, diff: 7.831426082803828e-12, std_diff: 2.527449368970901e-13, suff_dec: 7.336055109210682e-12\n",
      "Iteration: 22 -- loss: 2.0352628898252968e-12 gradnorm: 1.7119845538087022e-6 ssize: 1\n",
      "z: 1.9599639845400576, diff: 6.278927089808905e-12, std_diff: 2.0151730549333918e-13, suff_dec: 5.883960428780404e-12\n",
      "Iteration: 23 -- loss: 1.0084724182602017e-12 gradnorm: 1.154383382708184e-6 ssize: 0.5\n",
      "z: 1.9599639845400576, diff: 1.0267904715650951e-12, std_diff: 5.0095830252846526e-14, suff_dec: 9.286044484938837e-13\n",
      "Iteration: 24 -- loss: 3.303853266812574e-13 gradnorm: 1.064121676567546e-6 ssize: 1\n",
      "z: 1.9599639845400576, diff: 6.780870915789443e-13, std_diff: 2.266907685470385e-14, suff_dec: 6.33656517380954e-13\n",
      "Iteration: 25 -- loss: 1.42972058587468e-13 gradnorm: 3.842798892860923e-7 ssize: 1\n",
      "IN BATCH SIZE 3456------------------------------------\n",
      "IN BATCH SIZE 4148------------------------------------\n"
     ]
    },
    {
     "data": {
      "text/plain": [
       "([0.9999999966496863; 1.9999999871661986; … ; 998.9999999940852; 1000.0000000014029;;], 141920)"
      ]
     },
     "execution_count": 61,
     "metadata": {},
     "output_type": "execute_result"
    }
   ],
   "source": [
    "retrospective_approximation(F, zeros(p), X, y, m, mbs)"
   ]
  },
  {
   "cell_type": "code",
   "execution_count": null,
   "id": "2b1ce32b",
   "metadata": {},
   "outputs": [],
   "source": []
  }
 ],
 "metadata": {
  "kernelspec": {
   "display_name": "Julia 1.7.3",
   "language": "julia",
   "name": "julia-1.7"
  },
  "language_info": {
   "file_extension": ".jl",
   "mimetype": "application/julia",
   "name": "julia",
   "version": "1.7.3"
  }
 },
 "nbformat": 4,
 "nbformat_minor": 5
}
