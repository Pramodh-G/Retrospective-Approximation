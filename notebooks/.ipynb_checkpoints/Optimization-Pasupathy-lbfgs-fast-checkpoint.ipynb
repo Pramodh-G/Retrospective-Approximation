{
 "cells": [
  {
   "cell_type": "code",
   "execution_count": 1,
   "id": "2b9a65ee",
   "metadata": {},
   "outputs": [],
   "source": [
    "using LinearAlgebra, Distributions, Random, Optim, LineSearches, Statistics\n",
    "using CSV, DataFrames, DelimitedFiles"
   ]
  },
  {
   "cell_type": "code",
   "execution_count": 2,
   "id": "e5ac38bc",
   "metadata": {},
   "outputs": [],
   "source": [
    "# beta is (1, 2, 3, ... p)ᵀ, given in paper.\n",
    "data = CSV.read(\"../data/lin_reg.csv\", DataFrame);\n",
    "data = Matrix(data);"
   ]
  },
  {
   "cell_type": "code",
   "execution_count": 3,
   "id": "3103acc9",
   "metadata": {},
   "outputs": [],
   "source": [
    "const X = data[:, 1:end - 1];\n",
    "const y = data[:, end];\n",
    "const 𝒩 = Normal();"
   ]
  },
  {
   "cell_type": "code",
   "execution_count": 4,
   "id": "f2d117c4",
   "metadata": {},
   "outputs": [
    {
     "data": {
      "text/plain": [
       "(10000, 1000)"
      ]
     },
     "execution_count": 4,
     "metadata": {},
     "output_type": "execute_result"
    }
   ],
   "source": [
    "n, p = size(X)"
   ]
  },
  {
   "cell_type": "code",
   "execution_count": 5,
   "id": "b9205ee6",
   "metadata": {},
   "outputs": [
    {
     "data": {
      "text/plain": [
       "batch_shuffle (generic function with 1 method)"
      ]
     },
     "execution_count": 5,
     "metadata": {},
     "output_type": "execute_result"
    }
   ],
   "source": [
    "function batch_shuffle(X, y, mb_size)\n",
    "    n = size(X)[1]\n",
    "    perm = randperm(n)[1:mb_size]\n",
    "    X_mini = @view X[perm, :]\n",
    "    y_mini = @view y[perm, :]\n",
    "    return X_mini, y_mini\n",
    "end"
   ]
  },
  {
   "cell_type": "code",
   "execution_count": 6,
   "id": "55db6ba7",
   "metadata": {},
   "outputs": [
    {
     "data": {
      "text/plain": [
       "F (generic function with 1 method)"
      ]
     },
     "execution_count": 6,
     "metadata": {},
     "output_type": "execute_result"
    }
   ],
   "source": [
    "function F(β, X, y)\n",
    "    res = y .- X * β\n",
    "    G = -X' * res\n",
    "    l = sum(abs2, res)\n",
    "    \n",
    "    return l, G\n",
    "end"
   ]
  },
  {
   "cell_type": "code",
   "execution_count": 7,
   "id": "de84036a",
   "metadata": {},
   "outputs": [
    {
     "data": {
      "text/plain": [
       "backtracking (generic function with 4 methods)"
      ]
     },
     "execution_count": 7,
     "metadata": {},
     "output_type": "execute_result"
    }
   ],
   "source": [
    "function backtracking(F, d, β, X, y, r = 0.5, c= 1e-4, nmax=100)\n",
    "    \n",
    "    #https://en.wikipedia.org/wiki/Backtracking_line_search\n",
    "    α = 1\n",
    "    fᵢ, gᵢ = F(β, X, y)\n",
    "    βₛ = β + α * d\n",
    "    fₛ, gₛ = F(βₛ, X, y)\n",
    "    n = 1\n",
    "    \n",
    "    while fₛ > fᵢ + c * α * dot(gᵢ, d) && n < nmax\n",
    "        n = n + 1\n",
    "        α = α * r\n",
    "        βₛ = β + α * d\n",
    "        fₛ, gₛ = F(βₛ, X, y)\n",
    "    end\n",
    "    \n",
    "    return α, fₛ, gₛ\n",
    "end"
   ]
  },
  {
   "cell_type": "code",
   "execution_count": 8,
   "id": "684c1059",
   "metadata": {},
   "outputs": [
    {
     "data": {
      "text/plain": [
       "approxInvHess (generic function with 1 method)"
      ]
     },
     "execution_count": 8,
     "metadata": {},
     "output_type": "execute_result"
    }
   ],
   "source": [
    "function approxInvHess(g, S, Y, H₀, global_iter)\n",
    "    \n",
    "    #https://en.wikipedia.org/wiki/Limited-memory_BFGS\n",
    "    n, m = size(S)\n",
    "    ρ = zeros(m)\n",
    "    \n",
    "    upper = global_iter\n",
    "    lower = global_iter - m + 2\n",
    "    @inbounds for index in lower:upper\n",
    "        if index < 2\n",
    "            continue\n",
    "        end\n",
    "        i = mod1(index, m)\n",
    "        ρ[i] = abs(1 / dot(Y[:, i], S[:, i]))\n",
    "    end\n",
    "\n",
    "    q = zeros(n)\n",
    "    α = zeros(m)\n",
    "    d = zeros(n)\n",
    "    β = zero(eltype(ρ))\n",
    "\n",
    "    copyto!(q, g)\n",
    "    \n",
    "    upper = global_iter\n",
    "    lower = global_iter - m + 1\n",
    "    @inbounds for index in upper:-1:lower\n",
    "        if index < 1\n",
    "            continue\n",
    "        end\n",
    "        \n",
    "        i = mod1(index, m)\n",
    "        α[i] = ρ[i] * dot(S[:, i], q)\n",
    "        @. q -= α[i] * Y[:, i]\n",
    "    end\n",
    "\n",
    "    d = H₀ * q\n",
    "    \n",
    "    @inbounds for index in lower:upper\n",
    "        if index < 1\n",
    "            continue\n",
    "        end\n",
    "        i = mod1(index, m)\n",
    "        β = ρ[i] * dot(Y[:, i], d)\n",
    "        @. d = d + S[:, i] * (α[i] - β)\n",
    "    end\n",
    "    \n",
    "    return d\n",
    "end"
   ]
  },
  {
   "cell_type": "code",
   "execution_count": 9,
   "id": "d2391f67",
   "metadata": {},
   "outputs": [
    {
     "data": {
      "text/plain": [
       "loss_vector (generic function with 1 method)"
      ]
     },
     "execution_count": 9,
     "metadata": {},
     "output_type": "execute_result"
    }
   ],
   "source": [
    "function loss_vector(β, X, y)\n",
    "    # returns the loss for each data point in X instead of summing over whole dataset\n",
    "    res = (y .- X * β)\n",
    "    l = res .^ 2\n",
    "    return l\n",
    "end"
   ]
  },
  {
   "cell_type": "code",
   "execution_count": 27,
   "id": "32b7976d",
   "metadata": {},
   "outputs": [
    {
     "data": {
      "text/plain": [
       "stop (generic function with 2 methods)"
      ]
     },
     "execution_count": 27,
     "metadata": {},
     "output_type": "execute_result"
    }
   ],
   "source": [
    "function stop(β, βₛ, X, y, α = 0.95)\n",
    "    # calculates if we get a decrease with CI α.\n",
    "    \n",
    "    z = quantile(𝒩, (1 + α)/2)\n",
    "    \n",
    "    f = loss_vector(β, X, y)\n",
    "    g = loss_vector(βₛ, X, y)\n",
    "    mean_f = mean(f)\n",
    "    mean_g = mean(g)\n",
    "    \n",
    "    var_diff = var(f) + var(g) - 2 * cov(f, g)\n",
    "    std_diff = sqrt(var_diff)\n",
    "    \n",
    "    diff = mean_f - mean_g\n",
    "    \n",
    "    suff_dec = diff - z * std_diff\n",
    "    println(\"z: $(z), diff: $(diff), std_diff: $(std_diff), suff_dec: $(suff_dec)\")\n",
    "    if suff_dec > 0\n",
    "        return true\n",
    "    else\n",
    "        return false\n",
    "    end\n",
    "end"
   ]
  },
  {
   "cell_type": "code",
   "execution_count": 28,
   "id": "7677b0f0",
   "metadata": {},
   "outputs": [
    {
     "data": {
      "text/plain": [
       "lbfgs! (generic function with 3 methods)"
      ]
     },
     "execution_count": 28,
     "metadata": {},
     "output_type": "execute_result"
    }
   ],
   "source": [
    "function lbfgs!(F, βᵢ, X, y, Sₘ, Yₘ, global_iter, maxIt, m, τgrad = 1e-8, verbose = 0)\n",
    "    \n",
    "    local_iter = 0\n",
    "    n = length(βᵢ)\n",
    "    d = zeros(n)\n",
    "    fᵢ, gᵢ = F(βᵢ, X, y)\n",
    "    \n",
    "    # use the simplest line search to find step size\n",
    "    α, fₛ, gₛ = backtracking(F, -gᵢ, βᵢ, X, y)\n",
    "    βₛ = βᵢ - α * gᵢ\n",
    "    \n",
    "    # counter\n",
    "    local_iter = 1\n",
    "\n",
    "    while true\n",
    "        \n",
    "        if local_iter > maxIt\n",
    "            break; \n",
    "        end\n",
    "        \n",
    "        gnorm = norm(gᵢ)\n",
    "        \n",
    "        if gnorm < τgrad\n",
    "            \n",
    "            break; \n",
    "        end\n",
    "        \n",
    "        s₀ = βₛ - βᵢ\n",
    "        y₀ = gₛ - gᵢ\n",
    "        \n",
    "        H₀ = dot(s₀, y₀)/ dot(y₀, y₀) # hessian diagonal satisfying secant condition\n",
    "        i = mod1(global_iter, m)\n",
    "        \n",
    "        Sₘ[:, i] .= s₀\n",
    "        Yₘ[:, i] .= y₀\n",
    "        d = -approxInvHess(gₛ, Sₘ, Yₘ, H₀, global_iter)\n",
    "            \n",
    "        # new direction=p, find new step size\n",
    "        α, fs, gs = backtracking(F, d, βₛ, X, y)\n",
    "        \n",
    "        # update for next iteration\n",
    "        βᵢ .= βₛ\n",
    "        gᵢ .= gₛ\n",
    "        βₛ .= βₛ + α .* d\n",
    "        stop(βᵢ, βₛ, X, y)\n",
    "        fₛ = fs\n",
    "        gₛ = gs\n",
    "        local_iter = local_iter + 1\n",
    "        global_iter = global_iter + 1\n",
    "\n",
    "        if verbose == 1 \n",
    "            println(\"Iteration: $local_iter -- loss: $fₛ gradnorm: $(norm(gᵢ)) ssize: $α\")\n",
    "        end\n",
    "    end\n",
    "    \n",
    "    local_iter = local_iter - 1\n",
    "    return βₛ, fₛ, local_iter, global_iter\n",
    "end"
   ]
  },
  {
   "cell_type": "code",
   "execution_count": 29,
   "id": "d1befaff",
   "metadata": {},
   "outputs": [
    {
     "data": {
      "text/plain": [
       "1"
      ]
     },
     "execution_count": 29,
     "metadata": {},
     "output_type": "execute_result"
    }
   ],
   "source": [
    "m = 20\n",
    "Sₘ = zeros(p, m)\n",
    "Yₘ = zeros(p, m);\n",
    "global_iter = 1"
   ]
  },
  {
   "cell_type": "code",
   "execution_count": 30,
   "id": "12e5c908",
   "metadata": {},
   "outputs": [
    {
     "name": "stdout",
     "output_type": "stream",
     "text": [
      "z: 1.6448536269514717, diff: 9.065942199443707e7, std_diff: 1.3400870494215952e8, suff_dec: -1.2976528237274364e8\n",
      "Iteration: 2 -- loss: 3.996104621139921e10 gradnorm: 1.154875207226343e8 ssize: 1\n",
      "z: 1.6448536269514717, diff: 3.5616079086442366e6, std_diff: 5.494923872394696e6, suff_dec: -5.476737552686404e6\n",
      "Iteration: 3 -- loss: 4.344967124956835e9 gradnorm: 2.307758053626485e7 ssize: 1\n",
      "z: 1.6448536269514717, diff: 309485.6055967433, std_diff: 487008.8202430072, suff_dec: -491572.6187373245\n",
      "Iteration: 4 -- loss: 1.2501110689894018e9 gradnorm: 5.214471879254262e6 ssize: 1\n",
      "z: 1.6448536269514717, diff: 120679.54900001573, std_diff: 181682.2150847075, suff_dec: -178161.1014346428\n",
      "Iteration: 5 -- loss: 4.33155789892445e7 gradnorm: 2.7404527457160526e6 ssize: 1\n",
      "z: 1.6448536269514717, diff: 112.83740850430513, std_diff: 6498.6915853059445, suff_dec: -10576.559016025187\n",
      "Iteration: 6 -- loss: 4.218720490420143e7 gradnorm: 738511.9742515993 ssize: 1\n",
      "z: 1.6448536269514717, diff: 4105.894681685081, std_diff: 5931.658017504832, suff_dec: -5650.814522243519\n",
      "Iteration: 7 -- loss: 1.128258087350621e6 gradnorm: 827958.6990253358 ssize: 1\n",
      "z: 1.6448536269514717, diff: 75.58825575149997, std_diff: 113.39921733265155, suff_dec: -110.93685817157014\n",
      "Iteration: 8 -- loss: 372375.52983562124 gradnorm: 86895.65546764377 ssize: 1\n",
      "z: 1.6448536269514717, diff: 36.58947505199043, std_diff: 52.75305024537957, suff_dec: -50.18157097687538\n",
      "Iteration: 9 -- loss: 6480.779315716763 gradnorm: 46125.47272004606 ssize: 1\n",
      "z: 1.6448536269514717, diff: 0.27564700877930276, std_diff: 1.0012773478507173, suff_dec: -1.3713076684173\n",
      "Iteration: 10 -- loss: 3724.309227923736 gradnorm: 7635.230719209831 ssize: 1\n",
      "z: 1.6448536269514717, diff: 0.36162426389683994, std_diff: 0.5288937208670482, suff_dec: -0.5083284911431836\n",
      "Iteration: 11 -- loss: 108.06658895533667 gradnorm: 7774.941883381993 ssize: 1\n",
      "z: 1.6448536269514717, diff: 0.008437744413843066, std_diff: 0.012796462617339294, suff_dec: -0.012610563534436394\n",
      "Iteration: 12 -- loss: 23.689144816906023 gradnorm: 907.4527256916818 ssize: 1\n",
      "z: 1.6448536269514717, diff: 0.0022612068930759274, std_diff: 0.0033800747432487736, suff_dec: -0.0032985213077238824\n",
      "Iteration: 13 -- loss: 1.077075886146745 gradnorm: 370.4998491458804 ssize: 1\n",
      "z: 1.6448536269514717, diff: 9.511922816980654e-5, std_diff: 0.0001531941385638808, suff_dec: -0.0001568627062746991\n",
      "Iteration: 14 -- loss: 0.12588360444867966 gradnorm: 88.47788554240792 ssize: 1\n",
      "z: 1.6448536269514717, diff: 9.45791123965254e-6, std_diff: 1.5762593053144715e-5, suff_dec: -1.646924711397262e-5\n",
      "Iteration: 15 -- loss: 0.031304492052154256 gradnorm: 43.311992233202396 ssize: 1\n",
      "z: 1.6448536269514717, diff: 2.9997787399350046e-6, std_diff: 4.39373675557281e-6, suff_dec: -4.2272750983389235e-6\n",
      "Iteration: 16 -- loss: 0.0013067046528042114 gradnorm: 21.10375550965175 ssize: 1\n",
      "z: 1.6448536269514717, diff: 8.875140890764434e-8, std_diff: 1.2685920907842893e-7, suff_dec: -1.1991342125720453e-7\n",
      "Iteration: 17 -- loss: 0.00041919056372776743 gradnorm: 2.8106275881639404 ssize: 1\n"
     ]
    },
    {
     "data": {
      "text/plain": [
       "([0.9999915679830766, 1.9999896321114272, 2.999986656076358, 3.999987809034542, 4.9999928744199424, 5.999983326537657, 7.000001629521358, 8.000009935585632, 8.999994714539213, 9.999996715921549  …  991.0000003148443, 992.0000069050113, 993.0000038082152, 993.9999908327774, 994.9999957442349, 995.9999963467276, 996.9999984415899, 997.9999934050252, 998.9999954328889, 999.9999863828688], 0.00041919056372776743, 16, 17)"
      ]
     },
     "execution_count": 30,
     "metadata": {},
     "output_type": "execute_result"
    }
   ],
   "source": [
    "lbfgs!(F, zeros(p), X, y, Sₘ, Yₘ, global_iter, 45, m, 10, 1)"
   ]
  },
  {
   "cell_type": "code",
   "execution_count": null,
   "id": "653829bc",
   "metadata": {},
   "outputs": [],
   "source": []
  }
 ],
 "metadata": {
  "kernelspec": {
   "display_name": "Julia 1.7.3",
   "language": "julia",
   "name": "julia-1.7"
  },
  "language_info": {
   "file_extension": ".jl",
   "mimetype": "application/julia",
   "name": "julia",
   "version": "1.7.3"
  }
 },
 "nbformat": 4,
 "nbformat_minor": 5
}
